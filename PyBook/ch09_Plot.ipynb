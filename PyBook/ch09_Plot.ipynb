{
 "cells": [
  {
   "cell_type": "code",
   "execution_count": 11,
   "metadata": {
    "id": "XWEwhy7p1uNM"
   },
   "outputs": [
    {
     "name": "stdout",
     "output_type": "stream",
     "text": [
      "[WinError 2] The system cannot find the file specified: 'book-materials'\n",
      "C:\\Users\\Victor\\Documents\\Python Scripts\\Training\\Untitled Folder\n"
     ]
    }
   ],
   "source": [
    "#! ipython suppress id=61c3e93e7da045348bdcf837eeeb1ed6\n",
    "%pushd book-materials\n",
    "import numpy as np\n",
    "import pandas as pd\n",
    "PREVIOUS_MAX_ROWS = pd.options.display.max_rows\n",
    "pd.options.display.max_rows = 20\n",
    "pd.options.display.max_colwidth = 80\n",
    "pd.options.display.max_columns = 20\n",
    "np.random.seed(12345)\n",
    "import matplotlib.pyplot as plt\n",
    "import matplotlib\n",
    "plt.rc(\"figure\", figsize=(10, 6))\n",
    "np.set_printoptions(precision=4, suppress=True)\n",
    "\n",
    "url = \"https://raw.githubusercontent.com/wesm/pydata-book/3rd-edition/\"\n"
   ]
  },
  {
   "cell_type": "code",
   "execution_count": null,
   "metadata": {
    "id": "NlO4wiUj1uNN"
   },
   "outputs": [],
   "source": [
    "#! ipython id=3559a49dc675465ba81dcbb46a0f6834\n",
    "import matplotlib.pyplot as plt"
   ]
  },
  {
   "cell_type": "code",
   "execution_count": null,
   "metadata": {
    "id": "ERiCtaZt1uNN"
   },
   "outputs": [],
   "source": [
    "#! ipython id=930563ea71d04149a31044f6d16f5a98\n",
    "data = np.arange(10)\n",
    "data\n",
    "#! figure,id=mpl_first_plot,width=3in,title=\"Simple line plot\"\n",
    "plt.plot(data)"
   ]
  },
  {
   "cell_type": "code",
   "execution_count": null,
   "metadata": {
    "id": "0mbXBx6T1uNN"
   },
   "outputs": [],
   "source": [
    "#! ipython id=94a3d2f7a4974091ab17639b5e889437\n",
    "fig = plt.figure()"
   ]
  },
  {
   "cell_type": "code",
   "execution_count": null,
   "metadata": {
    "id": "ICYAi_9T1uNN"
   },
   "outputs": [],
   "source": [
    "#! ipython id=5e4d7eeddf0b4385a608bb67c347443a\n",
    "ax1 = fig.add_subplot(2, 2, 1)"
   ]
  },
  {
   "cell_type": "code",
   "execution_count": null,
   "metadata": {
    "id": "NSq3P8My1uNO"
   },
   "outputs": [],
   "source": [
    "#! ipython id=33657c29acd849d398ff9b6930fcd466\n",
    "ax2 = fig.add_subplot(2, 2, 2)\n",
    "#! figure,id=mpl_empty_subplots,width=4in,title=\"An empty matplotlib figure with three subplots\"\n",
    "ax3 = fig.add_subplot(2, 2, 3)"
   ]
  },
  {
   "cell_type": "code",
   "execution_count": null,
   "metadata": {
    "id": "lvBB2MbC1uNO"
   },
   "outputs": [],
   "source": [
    "#! ipython id=247be769f2414efda8edd7fa4a49ff93\n",
    "#! figure,id=mpl_subplots_one,width=4in,title=\"Data visualization after a single plot\"\n",
    "ax3.plot(np.random.standard_normal(50).cumsum(), color=\"black\",\n",
    "         linestyle=\"dashed\")"
   ]
  },
  {
   "cell_type": "code",
   "execution_count": null,
   "metadata": {
    "id": "JQhbceWP1uNO"
   },
   "outputs": [],
   "source": [
    "#! ipython id=08c76c0be47f439eabc8022db0d67c03\n",
    "ax1.hist(np.random.standard_normal(100), bins=20, color=\"black\", alpha=0.3);\n",
    "#! figure,id=mpl_subplots_two,width=4in,title=\"Data visualization after additional plots\"\n",
    "ax2.scatter(np.arange(30), np.arange(30) + 3 * np.random.standard_normal(30));"
   ]
  },
  {
   "cell_type": "code",
   "execution_count": null,
   "metadata": {
    "id": "8XGSFORQ1uNO"
   },
   "outputs": [],
   "source": [
    "#! ipython suppress id=9ca014254f154d0b8b9f9fdae36a04e4\n",
    "plt.close(\"all\")"
   ]
  },
  {
   "cell_type": "code",
   "execution_count": null,
   "metadata": {
    "id": "D9ai19Tu1uNO"
   },
   "outputs": [],
   "source": [
    "#! ipython id=a38b9f8424f348ebb559a7945b609121\n",
    "fig, axes = plt.subplots(2, 3)\n",
    "axes"
   ]
  },
  {
   "cell_type": "code",
   "execution_count": null,
   "metadata": {
    "id": "1C2kPni21uNP"
   },
   "outputs": [],
   "source": [
    "#! ipython suppress id=56bf61e88f414933be21cfca7bb7a89e\n",
    "fig, axes = plt.subplots(2, 2, sharex=True, sharey=True)\n",
    "for i in range(2):\n",
    "    for j in range(2):\n",
    "        axes[i, j].hist(np.random.standard_normal(500), bins=50,\n",
    "                        color=\"black\", alpha=0.5)\n",
    "#! figure,id=mpl_subplots_adjust,width=4in,title=\"Data visualization with no inter-subplot spacing\"\n",
    "fig.subplots_adjust(wspace=0, hspace=0)"
   ]
  },
  {
   "cell_type": "code",
   "execution_count": null,
   "metadata": {
    "id": "AmUiYmEe1uNP"
   },
   "outputs": [],
   "source": [
    "#! ipython suppress id=5dc52ff0a09b4593ba638cba1be94aad\n",
    "fig = plt.figure()"
   ]
  },
  {
   "cell_type": "code",
   "execution_count": null,
   "metadata": {
    "id": "uNL2jonC1uNP"
   },
   "outputs": [],
   "source": [
    "#! ipython id=7c2ae213e9214fe0a8780d91a64ed273\n",
    "ax = fig.add_subplot()\n",
    "#! figure,id=mpl_marker_ex,width=4in,title=\"Line plot with markers\"\n",
    "ax.plot(np.random.standard_normal(30).cumsum(), color=\"black\",\n",
    "        linestyle=\"dashed\", marker=\"o\");"
   ]
  },
  {
   "cell_type": "code",
   "execution_count": null,
   "metadata": {
    "id": "iB1ifDiB1uNP"
   },
   "outputs": [],
   "source": [
    "#! ipython suppress id=5e0afabc7ebd43d383a0c42d2188d9af\n",
    "plt.close(\"all\")"
   ]
  },
  {
   "cell_type": "code",
   "execution_count": null,
   "metadata": {
    "id": "ey-s2Oqg1uNP"
   },
   "outputs": [],
   "source": [
    "#! ipython id=600cec64d3e842749a84b16b8a549145\n",
    "fig = plt.figure()\n",
    "ax = fig.add_subplot()\n",
    "data = np.random.standard_normal(30).cumsum()\n",
    "ax.plot(data, color=\"black\", linestyle=\"dashed\", label=\"Default\");\n",
    "ax.plot(data, color=\"black\", linestyle=\"dashed\",\n",
    "        drawstyle=\"steps-post\", label=\"steps-post\");\n",
    "#! figure,id=mpl_drawstyle_ex,width=4in,title=\"Line plot with different drawstyle options\"\n",
    "ax.legend()"
   ]
  },
  {
   "cell_type": "code",
   "execution_count": null,
   "metadata": {
    "id": "qjKVEWWg1uNP"
   },
   "outputs": [],
   "source": [
    "#! ipython id=bac0ed2c52a04e62aad3cab21801a44c\n",
    "fig, ax = plt.subplots()\n",
    "#! figure,id=vis_ticks_one,width=3.5in,title=\"Simple plot for illustrating xticks (with default labels)\"\n",
    "ax.plot(np.random.standard_normal(1000).cumsum());"
   ]
  },
  {
   "cell_type": "code",
   "execution_count": null,
   "metadata": {
    "id": "HWzBXvWK1uNQ"
   },
   "outputs": [],
   "source": [
    "#! ipython id=08aa54cdf68c46fa8137f4c30189fb7d\n",
    "ticks = ax.set_xticks([0, 250, 500, 750, 1000])\n",
    "labels = ax.set_xticklabels([\"one\", \"two\", \"three\", \"four\", \"five\"],\n",
    "                            rotation=30, fontsize=8)"
   ]
  },
  {
   "cell_type": "code",
   "execution_count": null,
   "metadata": {
    "id": "uBtht8401uNQ"
   },
   "outputs": [],
   "source": [
    "#! ipython id=933a74fa372e40349697f0c32e50f259\n",
    "ax.set_xlabel(\"Stages\")\n",
    "#! figure,id=vis_ticks_two,width=3.5in,title=\"Simple plot for illustrating custom xticks\"\n",
    "ax.set_title(\"My first matplotlib plot\")"
   ]
  },
  {
   "cell_type": "code",
   "execution_count": null,
   "metadata": {
    "id": "3u1qkRDx1uNQ"
   },
   "outputs": [],
   "source": [
    "#! ipython id=b89655b6b64e49adb709a8dcaa4b1fec\n",
    "fig, ax = plt.subplots()\n",
    "ax.plot(np.random.randn(1000).cumsum(), color=\"black\", label=\"one\");\n",
    "ax.plot(np.random.randn(1000).cumsum(), color=\"black\", linestyle=\"dashed\",\n",
    "        label=\"two\");\n",
    "ax.plot(np.random.randn(1000).cumsum(), color=\"black\", linestyle=\"dotted\",\n",
    "        label=\"three\");"
   ]
  },
  {
   "cell_type": "code",
   "execution_count": null,
   "metadata": {
    "id": "fx8LBu7c1uNQ"
   },
   "outputs": [],
   "source": [
    "#! ipython id=930f945557234991a575666e39e2690a\n",
    "#! figure,id=vis_legend_ex,width=4in,title=\"Simple plot with three lines and legend\"\n",
    "ax.legend()"
   ]
  },
  {
   "cell_type": "code",
   "execution_count": null,
   "metadata": {
    "id": "dKQTj7HM1uNQ"
   },
   "outputs": [],
   "source": [
    "#! ipython verbatim id=00b59126f3364fdf900df06d486ed23d\n",
    "from datetime import datetime\n",
    "\n",
    "fig, ax = plt.subplots()\n",
    "\n",
    "data = pd.read_csv(\"examples/spx.csv\", index_col=0, parse_dates=True)\n",
    "spx = data[\"SPX\"]\n",
    "\n",
    "spx.plot(ax=ax, color=\"black\")\n",
    "\n",
    "crisis_data = [\n",
    "    (datetime(2007, 10, 11), \"Peak of bull market\"),\n",
    "    (datetime(2008, 3, 12), \"Bear Stearns Fails\"),\n",
    "    (datetime(2008, 9, 15), \"Lehman Bankruptcy\")\n",
    "]\n",
    "\n",
    "for date, label in crisis_data:\n",
    "    ax.annotate(label, xy=(date, spx.asof(date) + 75),\n",
    "                xytext=(date, spx.asof(date) + 225),\n",
    "                arrowprops=dict(facecolor=\"black\", headwidth=4, width=2,\n",
    "                                headlength=4),\n",
    "                horizontalalignment=\"left\", verticalalignment=\"top\")\n",
    "\n",
    "# Zoom in on 2007-2010\n",
    "ax.set_xlim([\"1/1/2007\", \"1/1/2011\"])\n",
    "ax.set_ylim([600, 1800])\n",
    "\n",
    "ax.set_title(\"Important dates in the 2008-2009 financial crisis\")"
   ]
  },
  {
   "cell_type": "code",
   "execution_count": null,
   "metadata": {
    "id": "65UiSJpv1uNQ"
   },
   "outputs": [],
   "source": [
    "#! ipython suppress id=a30e29e9107c43e2a03b2330810368e4\n",
    "#! figure,id=vis_crisis_dates,width=4.5in,title=\"Important dates in the 2008–2009 financial crisis\"\n",
    "ax.set_title(\"Important dates in the 2008–2009 financial crisis\")"
   ]
  },
  {
   "cell_type": "code",
   "execution_count": null,
   "metadata": {
    "id": "12S2fdzh1uNV"
   },
   "outputs": [],
   "source": [
    "#! ipython suppress id=038b73befd9a4dbab9a08fee140e53a3\n",
    "fig, ax = plt.subplots(figsize=(12, 6))\n",
    "rect = plt.Rectangle((0.2, 0.75), 0.4, 0.15, color=\"black\", alpha=0.3)\n",
    "circ = plt.Circle((0.7, 0.2), 0.15, color=\"blue\", alpha=0.3)\n",
    "pgon = plt.Polygon([[0.15, 0.15], [0.35, 0.4], [0.2, 0.6]],\n",
    "                   color=\"green\", alpha=0.5)\n",
    "ax.add_patch(rect)\n",
    "ax.add_patch(circ)\n",
    "#! figure,id=vis_patch_ex,width=4in,title=\"Data visualization composed from three different patches\"\n",
    "ax.add_patch(pgon)"
   ]
  },
  {
   "cell_type": "code",
   "execution_count": null,
   "metadata": {
    "id": "PB8ncMC01uNV"
   },
   "outputs": [],
   "source": [
    "#! ipython suppress id=d6b678466682413088fa5903f9197696\n",
    "plt.close(\"all\")"
   ]
  },
  {
   "cell_type": "code",
   "execution_count": null,
   "metadata": {
    "id": "EKrTQ79q1uNV"
   },
   "outputs": [],
   "source": [
    "#! ipython id=21edcf8da2154b7db12f7083ab4e9777\n",
    "s = pd.Series(np.random.standard_normal(10).cumsum(), index=np.arange(0, 100, 10))\n",
    "#! figure,id=vis_series_plot_1,width=4in,title=\"Simple Series plot\"\n",
    "s.plot()"
   ]
  },
  {
   "cell_type": "code",
   "execution_count": null,
   "metadata": {
    "id": "ijyYj_sd1uNW"
   },
   "outputs": [],
   "source": [
    "#! ipython id=1ef68f01e6f248259804975945e44951\n",
    "df = pd.DataFrame(np.random.standard_normal((10, 4)).cumsum(0),\n",
    "                  columns=[\"A\", \"B\", \"C\", \"D\"],\n",
    "                  index=np.arange(0, 100, 10))\n",
    "plt.style.use('grayscale')\n",
    "#! figure,id=vis_frame_plot_1,width=4in,title=\"Simple DataFrame plot\"\n",
    "df.plot()"
   ]
  },
  {
   "cell_type": "code",
   "execution_count": null,
   "metadata": {
    "id": "1FBJDtYK1uNW"
   },
   "outputs": [],
   "source": [
    "#! ipython id=55da9f184455476f8ce79e4eaf79742c\n",
    "fig, axes = plt.subplots(2, 1)\n",
    "data = pd.Series(np.random.uniform(size=16), index=list(\"abcdefghijklmnop\"))\n",
    "data.plot.bar(ax=axes[0], color=\"black\", alpha=0.7)\n",
    "#! figure,id=vis_bar_plot_ex,width=4.5in,title=\"Horizonal and vertical bar plot\"\n",
    "data.plot.barh(ax=axes[1], color=\"black\", alpha=0.7)"
   ]
  },
  {
   "cell_type": "code",
   "execution_count": null,
   "metadata": {
    "id": "zFVESrDS1uNW"
   },
   "outputs": [],
   "source": [
    "#! ipython suppress id=bbbe2554feb1460caf331d0a9c1a158a\n",
    "np.random.seed(12348)"
   ]
  },
  {
   "cell_type": "code",
   "execution_count": null,
   "metadata": {
    "id": "bSh6JDe01uNW"
   },
   "outputs": [],
   "source": [
    "#! ipython id=da2de3b4af64451ca5b47b6687e40c44\n",
    "df = pd.DataFrame(np.random.uniform(size=(6, 4)),\n",
    "                  index=[\"one\", \"two\", \"three\", \"four\", \"five\", \"six\"],\n",
    "                  columns=pd.Index([\"A\", \"B\", \"C\", \"D\"], name=\"Genus\"))\n",
    "df\n",
    "#! figure,id=vis_frame_barplot,width=4in,title=\"DataFrame bar plot\"\n",
    "df.plot.bar()"
   ]
  },
  {
   "cell_type": "code",
   "execution_count": null,
   "metadata": {
    "id": "T25bo06E1uNW"
   },
   "outputs": [],
   "source": [
    "#! ipython suppress id=583fcb73d46a44ee9c25f4b652d8767a\n",
    "plt.figure()"
   ]
  },
  {
   "cell_type": "code",
   "execution_count": null,
   "metadata": {
    "id": "9pqru-vt1uNW"
   },
   "outputs": [],
   "source": [
    "#! ipython id=ead442e8fee747aea00117cb77de970c\n",
    "#! figure,id=vis_frame_barplot_stacked,width=4in,title=\"DataFrame stacked bar plot\"\n",
    "df.plot.barh(stacked=True, alpha=0.5)"
   ]
  },
  {
   "cell_type": "code",
   "execution_count": null,
   "metadata": {
    "id": "Q5KyK5af1uNW"
   },
   "outputs": [],
   "source": [
    "#! ipython suppress id=70abd941e8d843678a1c1cf5010eaa27\n",
    "plt.close(\"all\")"
   ]
  },
  {
   "cell_type": "code",
   "execution_count": null,
   "metadata": {
    "id": "Za1ihZQs1uNW"
   },
   "outputs": [],
   "source": [
    "#! ipython id=1bb875213a92468788f61c4e8012932c\n",
    "tips = pd.read_csv(\"examples/tips.csv\")\n",
    "tips.head()\n",
    "party_counts = pd.crosstab(tips[\"day\"], tips[\"size\"])\n",
    "party_counts = party_counts.reindex(index=[\"Thur\", \"Fri\", \"Sat\", \"Sun\"])\n",
    "party_counts"
   ]
  },
  {
   "cell_type": "code",
   "execution_count": null,
   "metadata": {
    "id": "7Kjfmuca1uNX"
   },
   "outputs": [],
   "source": [
    "#! ipython id=4966d9560d0740db829531eb2a8f6c7a\n",
    "party_counts = party_counts.loc[:, 2:5]"
   ]
  },
  {
   "cell_type": "code",
   "execution_count": null,
   "metadata": {
    "id": "sOR4-aqW1uNX"
   },
   "outputs": [],
   "source": [
    "#! ipython id=b88726f319554e9cb32498dce98e66ca\n",
    "# Normalize to sum to 1\n",
    "party_pcts = party_counts.div(party_counts.sum(axis=\"columns\"),\n",
    "                              axis=\"index\")\n",
    "party_pcts\n",
    "#! figure,id=vis_tips_barplot,width=4in,title=\"Fraction of parties by size within each day\"\n",
    "party_pcts.plot.bar(stacked=True)"
   ]
  },
  {
   "cell_type": "code",
   "execution_count": null,
   "metadata": {
    "id": "r0QVS1qJ1uNX"
   },
   "outputs": [],
   "source": [
    "#! ipython suppress id=2e6c41575fc34b8ca7963b2c24167be2\n",
    "plt.close(\"all\")"
   ]
  },
  {
   "cell_type": "code",
   "execution_count": null,
   "metadata": {
    "id": "x6tNr7rx1uNX"
   },
   "outputs": [],
   "source": [
    "#! ipython id=97f4026c26cd42faa7d03d3e0dcc75fa\n",
    "import seaborn as sns\n",
    "\n",
    "tips[\"tip_pct\"] = tips[\"tip\"] / (tips[\"total_bill\"] - tips[\"tip\"])\n",
    "tips.head()\n",
    "#! figure,id=vis_tip_pct_seaborn,width=4in,title=\"Tipping percentage by day with error bars\"\n",
    "sns.barplot(x=\"tip_pct\", y=\"day\", data=tips, orient=\"h\")"
   ]
  },
  {
   "cell_type": "code",
   "execution_count": null,
   "metadata": {
    "id": "iHXz5SO51uNX"
   },
   "outputs": [],
   "source": [
    "#! ipython suppress id=05ae3cd4fb7048c5ba0d9ed6390c1f03\n",
    "plt.close(\"all\")"
   ]
  },
  {
   "cell_type": "code",
   "execution_count": null,
   "metadata": {
    "id": "uswH8Vlb1uNX"
   },
   "outputs": [],
   "source": [
    "#! ipython id=fd8ada60aab448848ded49ef8a81081c\n",
    "#! figure,id=vis_tip_pct_sns_grouped,width=4in,title=\"Tipping percentage by day and time\"\n",
    "sns.barplot(x=\"tip_pct\", y=\"day\", hue=\"time\", data=tips, orient=\"h\")"
   ]
  },
  {
   "cell_type": "code",
   "execution_count": null,
   "metadata": {
    "id": "dqI-mlHh1uNX"
   },
   "outputs": [],
   "source": [
    "#! ipython suppress id=d849ee158e424d2ca9e9741fdef08a7a\n",
    "plt.close(\"all\")"
   ]
  },
  {
   "cell_type": "code",
   "execution_count": null,
   "metadata": {
    "id": "QMUdUTn81uNX"
   },
   "outputs": [],
   "source": [
    "#! ipython id=07a3594954ff4d2fac3caa7927f64273\n",
    "sns.set_style(\"whitegrid\")"
   ]
  },
  {
   "cell_type": "code",
   "execution_count": null,
   "metadata": {
    "id": "uz1KL6LC1uNX"
   },
   "outputs": [],
   "source": [
    "#! ipython suppress id=ce4d75faf525411bbb4e8edbe016ff27\n",
    "plt.figure()"
   ]
  },
  {
   "cell_type": "code",
   "execution_count": null,
   "metadata": {
    "id": "RnEGwKiO1uNY"
   },
   "outputs": [],
   "source": [
    "#! ipython id=1589674e6dda4960800de8803aa5c3ab\n",
    "#! figure,id=vis_hist_ex,width=4in,title=\"Histogram of tip percentages\"\n",
    "tips[\"tip_pct\"].plot.hist(bins=50)"
   ]
  },
  {
   "cell_type": "code",
   "execution_count": null,
   "metadata": {
    "id": "IqpVRYRV1uNY"
   },
   "outputs": [],
   "source": [
    "#! ipython suppress id=5db1481f3ef441688c9bd5512da6fb9f\n",
    "plt.figure()"
   ]
  },
  {
   "cell_type": "code",
   "execution_count": null,
   "metadata": {
    "id": "LmaQ4nPN1uNY"
   },
   "outputs": [],
   "source": [
    "#! ipython id=0173a110796b44ec85d62f05b9d703be\n",
    "#! figure,id=vis_kde_ex,width=4in,title=\"Density plot of tip percentages\"\n",
    "tips[\"tip_pct\"].plot.density()"
   ]
  },
  {
   "cell_type": "code",
   "execution_count": null,
   "metadata": {
    "id": "fGxHHKxa1uNY"
   },
   "outputs": [],
   "source": [
    "#! ipython suppress id=0bee68ae5d834d4f8ad68ff964bd39f6\n",
    "plt.figure()"
   ]
  },
  {
   "cell_type": "code",
   "execution_count": null,
   "metadata": {
    "id": "IOHAF1fO1uNY"
   },
   "outputs": [],
   "source": [
    "#! ipython id=95802c949eee44d7a9f7e5760e85ddde\n",
    "comp1 = np.random.standard_normal(200)\n",
    "comp2 = 10 + 2 * np.random.standard_normal(200)\n",
    "values = pd.Series(np.concatenate([comp1, comp2]))\n",
    "\n",
    "#! figure,id=vis_series_kde,width=4in,title=\"Normalized histogram of normal mixture\"\n",
    "sns.histplot(values, bins=100, color=\"black\")"
   ]
  },
  {
   "cell_type": "code",
   "execution_count": null,
   "metadata": {
    "id": "hwfAlGCO1uNY"
   },
   "outputs": [],
   "source": [
    "#! ipython id=b99bf04e3b824743a391b9590e4b201b\n",
    "macro = pd.read_csv(\"examples/macrodata.csv\")\n",
    "data = macro[[\"cpi\", \"m1\", \"tbilrate\", \"unemp\"]]\n",
    "trans_data = np.log(data).diff().dropna()\n",
    "trans_data.tail()"
   ]
  },
  {
   "cell_type": "code",
   "execution_count": null,
   "metadata": {
    "id": "1Hd1zJbJ1uNY"
   },
   "outputs": [],
   "source": [
    "#! ipython suppress id=0b0300f35b1a49d7935c15315a863735\n",
    "plt.figure()"
   ]
  },
  {
   "cell_type": "code",
   "execution_count": null,
   "metadata": {
    "id": "F99byfzt1uNY"
   },
   "outputs": [],
   "source": [
    "#! ipython id=715be198942a441688a1bd8765f88cb3\n",
    "ax = sns.regplot(x=\"m1\", y=\"unemp\", data=trans_data)\n",
    "#! figure,id=scatter_plot_ex,width=3in,title=\"A seaborn regression/scatter plot\"\n",
    "ax.title(\"Changes in log(m1) versus log(unemp)\")"
   ]
  },
  {
   "cell_type": "code",
   "execution_count": null,
   "metadata": {
    "id": "fk_WiOyB1uNZ"
   },
   "outputs": [],
   "source": [
    "#! ipython id=c847f9d3a28f4c0f98518f94eee846ce\n",
    "#! figure,id=scatter_matrix_ex,width=4in,title=\"Pair plot matrix of statsmodels macro data\"\n",
    "sns.pairplot(trans_data, diag_kind=\"kde\", plot_kws={\"alpha\": 0.2})"
   ]
  },
  {
   "cell_type": "code",
   "execution_count": null,
   "metadata": {
    "id": "TDYg_yaW1uNZ"
   },
   "outputs": [],
   "source": [
    "#! ipython id=e7ac5cdddb9a40afbc2d3d1fcc07f0e9\n",
    "#! figure,id=vis_tip_pct_sns_factorplot,width=4in,title=\"Tipping percentage by day/time/smoker\"\n",
    "sns.catplot(x=\"day\", y=\"tip_pct\", hue=\"time\", col=\"smoker\",\n",
    "            kind=\"bar\", data=tips[tips.tip_pct < 1])"
   ]
  },
  {
   "cell_type": "code",
   "execution_count": null,
   "metadata": {
    "id": "KLq8PVfH1uNZ"
   },
   "outputs": [],
   "source": [
    "#! ipython id=1039f6945d4242ccb653e1fa645e2c81\n",
    "#! figure,id=vis_tip_pct_sns_factorplot2,width=4in,title=\"Tipping percentage by day split by time/smoker\"\n",
    "sns.catplot(x=\"day\", y=\"tip_pct\", row=\"time\",\n",
    "            col=\"smoker\",\n",
    "            kind=\"bar\", data=tips[tips.tip_pct < 1])"
   ]
  },
  {
   "cell_type": "code",
   "execution_count": null,
   "metadata": {
    "id": "g8CTPvbB1uNZ"
   },
   "outputs": [],
   "source": [
    "#! ipython id=511751cc57d844a1b39052cca90803f8\n",
    "#! figure,id=vis_tip_pct_sns_factor_box,width=4in,title=\"Box plot of tipping percentage by day\"\n",
    "sns.catplot(x=\"tip_pct\", y=\"day\", kind=\"box\",\n",
    "            data=tips[tips.tip_pct < 0.5])"
   ]
  },
  {
   "cell_type": "code",
   "execution_count": null,
   "metadata": {
    "id": "zV4L2Vig1uNZ"
   },
   "outputs": [],
   "source": [
    "#! ipython suppress id=b7f5b31c0dff42ec8441ca4b21003edb\n",
    "%popd"
   ]
  },
  {
   "cell_type": "code",
   "execution_count": null,
   "metadata": {
    "id": "Pj2oONfo1uNZ"
   },
   "outputs": [],
   "source": [
    "#! ipython suppress id=19b6468a77c24957a335c58b413a9112\n",
    "pd.options.display.max_rows = PREVIOUS_MAX_ROWS"
   ]
  }
 ],
 "metadata": {
  "colab": {
   "provenance": []
  },
  "kernelspec": {
   "display_name": "Python 3 (ipykernel)",
   "language": "python",
   "name": "python3"
  },
  "language_info": {
   "codemirror_mode": {
    "name": "ipython",
    "version": 3
   },
   "file_extension": ".py",
   "mimetype": "text/x-python",
   "name": "python",
   "nbconvert_exporter": "python",
   "pygments_lexer": "ipython3",
   "version": "3.9.12"
  }
 },
 "nbformat": 4,
 "nbformat_minor": 1
}
