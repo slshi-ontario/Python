{
  "cells": [
    {
      "cell_type": "code",
      "execution_count": null,
      "metadata": {
        "id": "Jy8F58a62Jbu"
      },
      "outputs": [],
      "source": [
        "#! ipython suppress id=009f36b80b8e4e0f8571b70fa54e4511\n",
        "%pushd book-materials\n",
        "import numpy as np\n",
        "import pandas as pd\n",
        "import matplotlib.pyplot as plt\n",
        "plt.rc('figure', figsize=(10, 6))\n",
        "PREVIOUS_MAX_ROWS = pd.options.display.max_rows\n",
        "pd.options.display.max_columns = 20\n",
        "pd.options.display.max_rows = 20\n",
        "pd.options.display.max_colwidth = 80\n",
        "np.set_printoptions(precision=4, suppress=True)"
      ]
    },
    {
      "cell_type": "code",
      "execution_count": null,
      "metadata": {
        "id": "c1i4xkCM2Jbv"
      },
      "outputs": [],
      "source": [
        "#! ipython id=93f746046cba429da26cf71ac13fc271\n",
        "# a very large list of strings\n",
        "strings = ['foo', 'foobar', 'baz', 'qux',\n",
        "           'python', 'Guido Van Rossum'] * 100000\n",
        "\n",
        "method1 = [x for x in strings if x.startswith('foo')]\n",
        "\n",
        "method2 = [x for x in strings if x[:3] == 'foo']"
      ]
    },
    {
      "cell_type": "code",
      "execution_count": null,
      "metadata": {
        "id": "Tg3qzYq52Jbv"
      },
      "outputs": [],
      "source": [
        "#! ipython id=1cddb2d3bd564e93bd66d8d625b93b30\n",
        "%time method1 = [x for x in strings if x.startswith('foo')]\n",
        "%time method2 = [x for x in strings if x[:3] == 'foo']"
      ]
    },
    {
      "cell_type": "code",
      "execution_count": null,
      "metadata": {
        "id": "AiFDP3172Jbv"
      },
      "outputs": [],
      "source": [
        "#! ipython suppress id=362c743f25684f409c9562cffa1a76db\n",
        "%popd"
      ]
    },
    {
      "cell_type": "code",
      "execution_count": null,
      "metadata": {
        "id": "ljNSAycL2Jbw"
      },
      "outputs": [],
      "source": [
        "#! ipython suppress id=eb88d21e8e59441e884dda4884f3d0f8\n",
        "pd.options.display.max_rows = PREVIOUS_MAX_ROWS"
      ]
    }
  ],
  "metadata": {
    "kernelspec": {
      "display_name": "Python 3",
      "language": "python",
      "name": "python3"
    },
    "language_info": {
      "codemirror_mode": {
        "name": "ipython",
        "version": 3
      },
      "file_extension": ".py",
      "mimetype": "text/x-python",
      "name": "python",
      "nbconvert_exporter": "python",
      "pygments_lexer": "ipython3",
      "version": "3.7.6"
    },
    "colab": {
      "provenance": []
    }
  },
  "nbformat": 4,
  "nbformat_minor": 0
}