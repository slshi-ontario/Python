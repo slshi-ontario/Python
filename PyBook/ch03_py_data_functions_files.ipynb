{
  "cells": [
    {
      "cell_type": "code",
      "execution_count": null,
      "metadata": {
        "id": "mTeXRZRV2IFb"
      },
      "outputs": [],
      "source": [
        "#! ipython suppress id=dbedddc4257c4aa8bff5f9b0d4d8c1bc\n",
        "%pushd book-materials"
      ]
    },
    {
      "cell_type": "code",
      "execution_count": null,
      "metadata": {
        "id": "NgNN_bJ72IFc"
      },
      "outputs": [],
      "source": [
        "#! ipython id=87d4ac2ad13c491496f5706a050b89d0\n",
        "tup = (4, 5, 6)\n",
        "tup"
      ]
    },
    {
      "cell_type": "code",
      "execution_count": null,
      "metadata": {
        "id": "61DGOI5t2IFd"
      },
      "outputs": [],
      "source": [
        "#! ipython id=6f7af42292e84654b7317956cc8f6e68\n",
        "tup = 4, 5, 6\n",
        "tup"
      ]
    },
    {
      "cell_type": "code",
      "execution_count": null,
      "metadata": {
        "id": "eLVncHua2IFd"
      },
      "outputs": [],
      "source": [
        "#! ipython id=9799bf9875e7452cb40082f8479a1ba6\n",
        "tuple([4, 0, 2])\n",
        "tup = tuple('string')\n",
        "tup"
      ]
    },
    {
      "cell_type": "code",
      "execution_count": null,
      "metadata": {
        "id": "Jfxtr-GW2IFd"
      },
      "outputs": [],
      "source": [
        "#! ipython id=5e49a072c38647488543066b9d082fcb\n",
        "tup[0]"
      ]
    },
    {
      "cell_type": "code",
      "execution_count": null,
      "metadata": {
        "id": "ZsifBoj62IFd"
      },
      "outputs": [],
      "source": [
        "#! ipython id=e499888dd95f4b4394ade24148f54180\n",
        "nested_tup = (4, 5, 6), (7, 8)\n",
        "nested_tup\n",
        "nested_tup[0]\n",
        "nested_tup[1]"
      ]
    },
    {
      "cell_type": "code",
      "execution_count": null,
      "metadata": {
        "id": "MtPfP89I2IFd"
      },
      "outputs": [],
      "source": [
        "#! ipython allow_exceptions id=c17bbb6c35414b86b7bbacd140256406\n",
        "tup = tuple(['foo', [1, 2], True])\n",
        "tup[2] = False"
      ]
    },
    {
      "cell_type": "code",
      "execution_count": null,
      "metadata": {
        "id": "v6LjXyIy2IFe"
      },
      "outputs": [],
      "source": [
        "#! ipython id=48557abbe01245c682d53c11b2c6da39\n",
        "tup[1].append(3)\n",
        "tup"
      ]
    },
    {
      "cell_type": "code",
      "execution_count": null,
      "metadata": {
        "id": "sPJqBJEz2IFe"
      },
      "outputs": [],
      "source": [
        "#! ipython id=03226ed8d01b4c57a57259f9931a418c\n",
        "(4, None, 'foo') + (6, 0) + ('bar',)"
      ]
    },
    {
      "cell_type": "code",
      "execution_count": null,
      "metadata": {
        "id": "Zrhwx3yH2IFe"
      },
      "outputs": [],
      "source": [
        "#! ipython id=1e55cec4a8b343a691c0c58a039c59bc\n",
        "('foo', 'bar') * 4"
      ]
    },
    {
      "cell_type": "code",
      "execution_count": null,
      "metadata": {
        "id": "Hae3j_jz2IFe"
      },
      "outputs": [],
      "source": [
        "#! ipython id=e5652393811c45f38146118b45dcbdcc\n",
        "tup = (4, 5, 6)\n",
        "a, b, c = tup\n",
        "b"
      ]
    },
    {
      "cell_type": "code",
      "execution_count": null,
      "metadata": {
        "id": "LAEOsnz22IFf"
      },
      "outputs": [],
      "source": [
        "#! ipython id=a6dfb4144dad4b2f9360dc94c618ed87\n",
        "tup = 4, 5, (6, 7)\n",
        "a, b, (c, d) = tup\n",
        "d"
      ]
    },
    {
      "cell_type": "code",
      "execution_count": null,
      "metadata": {
        "id": "FfjTM-tz2IFf"
      },
      "outputs": [],
      "source": [
        "#! ipython id=5b9675723bc546dd8e5494a63479838e\n",
        "a, b = 1, 2\n",
        "a\n",
        "b\n",
        "b, a = a, b\n",
        "a\n",
        "b"
      ]
    },
    {
      "cell_type": "code",
      "execution_count": null,
      "metadata": {
        "id": "0t4fWjNp2IFf"
      },
      "outputs": [],
      "source": [
        "#! ipython id=5db070301a5e462588ea2f6e56491b16\n",
        "seq = [(1, 2, 3), (4, 5, 6), (7, 8, 9)]\n",
        "for a, b, c in seq:\n",
        "    print(f'a={a}, b={b}, c={c}')"
      ]
    },
    {
      "cell_type": "code",
      "execution_count": null,
      "metadata": {
        "id": "cmVpevxc2IFf"
      },
      "outputs": [],
      "source": [
        "#! ipython id=2150bcef09da49b79898e3131b9d55aa\n",
        "values = 1, 2, 3, 4, 5\n",
        "a, b, *rest = values\n",
        "a\n",
        "b\n",
        "rest"
      ]
    },
    {
      "cell_type": "code",
      "execution_count": null,
      "metadata": {
        "id": "f9n3IZVE2IFf"
      },
      "outputs": [],
      "source": [
        "#! ipython id=88673596fc474ab7aad7f3c53f5d4c43\n",
        "a, b, *_ = values"
      ]
    },
    {
      "cell_type": "code",
      "execution_count": null,
      "metadata": {
        "id": "v1JOLrnN2IFg"
      },
      "outputs": [],
      "source": [
        "#! ipython id=08adf09ff6f04bfaa24519224688103f\n",
        "a = (1, 2, 2, 2, 3, 4, 2)\n",
        "a.count(2)"
      ]
    },
    {
      "cell_type": "code",
      "execution_count": null,
      "metadata": {
        "id": "tbSWP-Tx2IFg"
      },
      "outputs": [],
      "source": [
        "#! ipython id=1e4a94249d2b454e9eab4c5c5668ca53\n",
        "a_list = [2, 3, 7, None]\n",
        "\n",
        "tup = (\"foo\", \"bar\", \"baz\")\n",
        "b_list = list(tup)\n",
        "b_list\n",
        "b_list[1] = \"peekaboo\"\n",
        "b_list"
      ]
    },
    {
      "cell_type": "code",
      "execution_count": null,
      "metadata": {
        "id": "I6r5zqyW2IFg"
      },
      "outputs": [],
      "source": [
        "#! ipython id=318993071ad64015b2ff7e2cc2471b1e\n",
        "gen = range(10)\n",
        "gen\n",
        "list(gen)"
      ]
    },
    {
      "cell_type": "code",
      "execution_count": null,
      "metadata": {
        "id": "i4J43jBR2IFg"
      },
      "outputs": [],
      "source": [
        "#! ipython id=b8bf8fab6a7945cba118ded7c5832d7d\n",
        "b_list.append(\"dwarf\")\n",
        "b_list"
      ]
    },
    {
      "cell_type": "code",
      "execution_count": null,
      "metadata": {
        "id": "1JpUH6sn2IFg"
      },
      "outputs": [],
      "source": [
        "#! ipython id=c37cb14bfdc347f7a875d7f2d792a5e8\n",
        "b_list.insert(1, \"red\")\n",
        "b_list"
      ]
    },
    {
      "cell_type": "code",
      "execution_count": null,
      "metadata": {
        "id": "BqLgfun92IFg"
      },
      "outputs": [],
      "source": [
        "#! ipython id=03999831e06b4c5680299112f55070d5\n",
        "b_list.pop(2)\n",
        "b_list"
      ]
    },
    {
      "cell_type": "code",
      "execution_count": null,
      "metadata": {
        "id": "RWu2PvTf2IFh"
      },
      "outputs": [],
      "source": [
        "#! ipython id=db5248fa20ab409ab2bd27b150a674a4\n",
        "b_list.append(\"foo\")\n",
        "b_list\n",
        "b_list.remove(\"foo\")\n",
        "b_list"
      ]
    },
    {
      "cell_type": "code",
      "execution_count": null,
      "metadata": {
        "id": "H8v0BQh12IFh"
      },
      "outputs": [],
      "source": [
        "#! ipython id=36396876129145c7a39e128c5782b07d\n",
        "\"dwarf\" in b_list"
      ]
    },
    {
      "cell_type": "code",
      "execution_count": null,
      "metadata": {
        "id": "bB72onXX2IFh"
      },
      "outputs": [],
      "source": [
        "#! ipython id=c5e00b324c1f43b084aa5b3005c6383f\n",
        "\"dwarf\" not in b_list"
      ]
    },
    {
      "cell_type": "code",
      "execution_count": null,
      "metadata": {
        "id": "ngryKM-n2IFh"
      },
      "outputs": [],
      "source": [
        "#! ipython id=a7057ca531ac416d8794605b19e63190\n",
        "[4, None, \"foo\"] + [7, 8, (2, 3)]"
      ]
    },
    {
      "cell_type": "code",
      "execution_count": null,
      "metadata": {
        "id": "3TbKTL332IFh"
      },
      "outputs": [],
      "source": [
        "#! ipython id=e1f5254102104c92b988c358b6344319\n",
        "x = [4, None, \"foo\"]\n",
        "x.extend([7, 8, (2, 3)])\n",
        "x"
      ]
    },
    {
      "cell_type": "code",
      "execution_count": null,
      "metadata": {
        "id": "qxSgMJgx2IFh"
      },
      "outputs": [],
      "source": [
        "#! ipython id=f7dc01342ead4647bd025c02160ace46\n",
        "a = [7, 2, 5, 1, 3]\n",
        "a.sort()\n",
        "a"
      ]
    },
    {
      "cell_type": "code",
      "execution_count": null,
      "metadata": {
        "id": "vFwsqNTv2IFi"
      },
      "outputs": [],
      "source": [
        "#! ipython id=5805c218da894959836bca33cae741b7\n",
        "b = [\"saw\", \"small\", \"He\", \"foxes\", \"six\"]\n",
        "b.sort(key=len)\n",
        "b"
      ]
    },
    {
      "cell_type": "code",
      "execution_count": null,
      "metadata": {
        "id": "QOOmw6dk2IFi"
      },
      "outputs": [],
      "source": [
        "#! ipython id=56f8cc98455b49838595dfade4ab90d1\n",
        "seq = [7, 2, 3, 7, 5, 6, 0, 1]\n",
        "seq[1:5]"
      ]
    },
    {
      "cell_type": "code",
      "execution_count": null,
      "metadata": {
        "id": "TGr0-y4-2IFi"
      },
      "outputs": [],
      "source": [
        "#! ipython id=df2909e780bc4cf0b48272e57a7fc69f\n",
        "seq[3:5] = [6, 3]\n",
        "seq"
      ]
    },
    {
      "cell_type": "code",
      "execution_count": null,
      "metadata": {
        "id": "nQm3AsR62IFi"
      },
      "outputs": [],
      "source": [
        "#! ipython id=2785d920b1d047ba8ed411fcfd8a7bf1\n",
        "seq[:5]\n",
        "seq[3:]"
      ]
    },
    {
      "cell_type": "code",
      "execution_count": null,
      "metadata": {
        "id": "7_PX8Jp22IFi"
      },
      "outputs": [],
      "source": [
        "#! ipython id=0ddaf435400e4bee8241f3785e7cdd74\n",
        "seq[-4:]\n",
        "seq[-6:-2]"
      ]
    },
    {
      "cell_type": "code",
      "execution_count": null,
      "metadata": {
        "id": "aqwbnAhU2IFk"
      },
      "outputs": [],
      "source": [
        "#! ipython id=099a7a8977f747ccb839bf11eccc4f11\n",
        "seq[::2]"
      ]
    },
    {
      "cell_type": "code",
      "execution_count": null,
      "metadata": {
        "id": "kb_G5-Zp2IFk"
      },
      "outputs": [],
      "source": [
        "#! ipython id=74c7a1f7938f4e029799a354247bab44\n",
        "seq[::-1]"
      ]
    },
    {
      "cell_type": "code",
      "execution_count": null,
      "metadata": {
        "id": "7MQ5BNwq2IFk"
      },
      "outputs": [],
      "source": [
        "#! ipython id=102e43ef794d434e9273444cc7874157\n",
        "empty_dict = {}\n",
        "d1 = {\"a\": \"some value\", \"b\": [1, 2, 3, 4]}\n",
        "d1"
      ]
    },
    {
      "cell_type": "code",
      "execution_count": null,
      "metadata": {
        "id": "VvH2OyM22IFk"
      },
      "outputs": [],
      "source": [
        "#! ipython id=206c17b9ac344ecbbe709abb43a4d4c5\n",
        "d1[7] = \"an integer\"\n",
        "d1\n",
        "d1[\"b\"]"
      ]
    },
    {
      "cell_type": "code",
      "execution_count": null,
      "metadata": {
        "id": "JIlUreta2IFk"
      },
      "outputs": [],
      "source": [
        "#! ipython id=c3d1090a30354b9b8cc4ba5909661aa2\n",
        "\"b\" in d1"
      ]
    },
    {
      "cell_type": "code",
      "execution_count": null,
      "metadata": {
        "id": "RqJ1p9eV2IFl"
      },
      "outputs": [],
      "source": [
        "#! ipython id=525e7836241848f783e5b25b66ff0627\n",
        "d1[5] = \"some value\"\n",
        "d1\n",
        "d1[\"dummy\"] = \"another value\"\n",
        "d1\n",
        "del d1[5]\n",
        "d1\n",
        "ret = d1.pop(\"dummy\")\n",
        "ret\n",
        "d1"
      ]
    },
    {
      "cell_type": "code",
      "execution_count": null,
      "metadata": {
        "id": "GtSZ6PGf2IFl"
      },
      "outputs": [],
      "source": [
        "#! ipython id=17b5a6e9001d47a0b604e547ee929a5e\n",
        "list(d1.keys())\n",
        "list(d1.values())"
      ]
    },
    {
      "cell_type": "code",
      "execution_count": null,
      "metadata": {
        "id": "Uxh6x_-m2IFl"
      },
      "outputs": [],
      "source": [
        "#! ipython id=d711dee217894970ab40d16b495a1418\n",
        "list(d1.items())"
      ]
    },
    {
      "cell_type": "code",
      "execution_count": null,
      "metadata": {
        "id": "5c6z7VzE2IFl"
      },
      "outputs": [],
      "source": [
        "#! ipython id=2950abfb881b43d4b0d0b4ee9866e283\n",
        "d1.update({\"b\": \"foo\", \"c\": 12})\n",
        "d1"
      ]
    },
    {
      "cell_type": "code",
      "execution_count": null,
      "metadata": {
        "id": "-Ah1GmGr2IFl"
      },
      "outputs": [],
      "source": [
        "#! ipython id=8adf5329762c41d1b80f3d7be30162ae\n",
        "tuples = zip(range(5), reversed(range(5)))\n",
        "tuples\n",
        "mapping = dict(tuples)\n",
        "mapping"
      ]
    },
    {
      "cell_type": "code",
      "execution_count": null,
      "metadata": {
        "id": "1lYWc-NI2IFl"
      },
      "outputs": [],
      "source": [
        "#! ipython id=8bdf9587c72d4e7f8d332558a707ad6b\n",
        "words = [\"apple\", \"bat\", \"bar\", \"atom\", \"book\"]\n",
        "by_letter = {}\n",
        "\n",
        "#! blockstart\n",
        "for word in words:\n",
        "    letter = word[0]\n",
        "    if letter not in by_letter:\n",
        "        by_letter[letter] = [word]\n",
        "    else:\n",
        "        by_letter[letter].append(word)\n",
        "#! blockend\n",
        "\n",
        "by_letter"
      ]
    },
    {
      "cell_type": "code",
      "execution_count": null,
      "metadata": {
        "id": "SD863D6A2IFl"
      },
      "outputs": [],
      "source": [
        "#! ipython id=d541b1633e0a4a9aaa3a75f4487c293c\n",
        "by_letter = {}\n",
        "#! blockstart\n",
        "for word in words:\n",
        "    letter = word[0]\n",
        "    by_letter.setdefault(letter, []).append(word)\n",
        "#! blockend\n",
        "by_letter"
      ]
    },
    {
      "cell_type": "code",
      "execution_count": null,
      "metadata": {
        "id": "7nNRyLIV2IFl"
      },
      "outputs": [],
      "source": [
        "#! ipython id=83920435a755492fa706ecec0b394d4a\n",
        "from collections import defaultdict\n",
        "by_letter = defaultdict(list)\n",
        "for word in words:\n",
        "    by_letter[word[0]].append(word)"
      ]
    },
    {
      "cell_type": "code",
      "execution_count": null,
      "metadata": {
        "id": "EWzNM1jN2IFm"
      },
      "outputs": [],
      "source": [
        "#! ipython allow_exceptions id=ef6987776ec0412ebea75e5dabf8f405\n",
        "hash(\"string\")\n",
        "hash((1, 2, (2, 3)))\n",
        "hash((1, 2, [2, 3])) # fails because lists are mutable"
      ]
    },
    {
      "cell_type": "code",
      "execution_count": null,
      "metadata": {
        "id": "o95QYt_42IFm"
      },
      "outputs": [],
      "source": [
        "#! ipython id=6537602c2b2749f092d5289a226a30fd\n",
        "d = {}\n",
        "d[tuple([1, 2, 3])] = 5\n",
        "d"
      ]
    },
    {
      "cell_type": "code",
      "execution_count": null,
      "metadata": {
        "id": "LyJtbEwb2IFm"
      },
      "outputs": [],
      "source": [
        "#! ipython id=39fbedd72ba046688ab288378af6d8ab\n",
        "set([2, 2, 2, 1, 3, 3])\n",
        "{2, 2, 2, 1, 3, 3}"
      ]
    },
    {
      "cell_type": "code",
      "execution_count": null,
      "metadata": {
        "id": "DHJgOsoR2IFm"
      },
      "outputs": [],
      "source": [
        "#! ipython id=960a9862306d45b9bebf33933303f16b\n",
        "a = {1, 2, 3, 4, 5}\n",
        "b = {3, 4, 5, 6, 7, 8}"
      ]
    },
    {
      "cell_type": "code",
      "execution_count": null,
      "metadata": {
        "id": "BdayQ_8I2IFm"
      },
      "outputs": [],
      "source": [
        "#! ipython id=930360aa3e46418fbfc9a8398a0b64a3\n",
        "a.union(b)\n",
        "a | b"
      ]
    },
    {
      "cell_type": "code",
      "execution_count": null,
      "metadata": {
        "id": "0qvzppPq2IFm"
      },
      "outputs": [],
      "source": [
        "#! ipython id=d2fee1cd0d2b4f33a88964578841a586\n",
        "a.intersection(b)\n",
        "a & b"
      ]
    },
    {
      "cell_type": "code",
      "execution_count": null,
      "metadata": {
        "id": "hK7uVePj2IFm"
      },
      "outputs": [],
      "source": [
        "#! ipython id=bc93c7d7808448908a39e8c48516f8ea\n",
        "c = a.copy()\n",
        "c |= b\n",
        "c\n",
        "d = a.copy()\n",
        "d &= b\n",
        "d"
      ]
    },
    {
      "cell_type": "code",
      "execution_count": null,
      "metadata": {
        "id": "6MhujVK42IFm"
      },
      "outputs": [],
      "source": [
        "#! ipython id=d3ba3bbecde44f16931f20b7613400ed\n",
        "my_data = [1, 2, 3, 4]\n",
        "my_set = {tuple(my_data)}\n",
        "my_set"
      ]
    },
    {
      "cell_type": "code",
      "execution_count": null,
      "metadata": {
        "id": "eXOFvqG92IFn"
      },
      "outputs": [],
      "source": [
        "#! ipython id=69fdfc8010a64cb9b5bd227afae109a1\n",
        "a_set = {1, 2, 3, 4, 5}\n",
        "{1, 2, 3}.issubset(a_set)\n",
        "a_set.issuperset({1, 2, 3})"
      ]
    },
    {
      "cell_type": "code",
      "execution_count": null,
      "metadata": {
        "id": "uhuYS6v_2IFn"
      },
      "outputs": [],
      "source": [
        "#! ipython id=4895c04ae7fa49cda3a760d5dd952a24\n",
        "{1, 2, 3} == {3, 2, 1}"
      ]
    },
    {
      "cell_type": "code",
      "execution_count": null,
      "metadata": {
        "id": "HVW6Xc_l2IFn"
      },
      "outputs": [],
      "source": [
        "#! ipython id=2adc3677205342eca43882c88ecc673e\n",
        "sorted([7, 1, 2, 6, 0, 3, 2])\n",
        "sorted(\"horse race\")"
      ]
    },
    {
      "cell_type": "code",
      "execution_count": null,
      "metadata": {
        "id": "pIjfT8VD2IFn"
      },
      "outputs": [],
      "source": [
        "#! ipython id=9ebb445902b34f8a9e4f30c3b2492235\n",
        "seq1 = [\"foo\", \"bar\", \"baz\"]\n",
        "seq2 = [\"one\", \"two\", \"three\"]\n",
        "zipped = zip(seq1, seq2)\n",
        "list(zipped)"
      ]
    },
    {
      "cell_type": "code",
      "execution_count": null,
      "metadata": {
        "id": "u5QuFtfS2IFn"
      },
      "outputs": [],
      "source": [
        "#! ipython id=6cb65a648c764d428fab7b7f0e3088e2\n",
        "seq3 = [False, True]\n",
        "list(zip(seq1, seq2, seq3))"
      ]
    },
    {
      "cell_type": "code",
      "execution_count": null,
      "metadata": {
        "id": "rFXnA-DH2IFn"
      },
      "outputs": [],
      "source": [
        "#! ipython id=33b017981136408db89261408551d481\n",
        "#! blockstart\n",
        "for index, (a, b) in enumerate(zip(seq1, seq2)):\n",
        "    print(f\"{index}: {a}, {b}\")\n",
        "#! blockend"
      ]
    },
    {
      "cell_type": "code",
      "execution_count": null,
      "metadata": {
        "id": "Dor83iVJ2IFn"
      },
      "outputs": [],
      "source": [
        "#! ipython id=ba42b4701d824e03b5798c66a4e8ba52\n",
        "list(reversed(range(10)))"
      ]
    },
    {
      "cell_type": "code",
      "execution_count": null,
      "metadata": {
        "id": "lpu23xOK2IFn"
      },
      "outputs": [],
      "source": [
        "#! ipython id=4a46030633924bcf9ed372378866d5e5\n",
        "strings = [\"a\", \"as\", \"bat\", \"car\", \"dove\", \"python\"]\n",
        "[x.upper() for x in strings if len(x) > 2]"
      ]
    },
    {
      "cell_type": "code",
      "execution_count": null,
      "metadata": {
        "id": "PZER5I_x2IFo"
      },
      "outputs": [],
      "source": [
        "#! ipython id=27c87458145e4e74b262c8d4eec99e5c\n",
        "unique_lengths = {len(x) for x in strings}\n",
        "unique_lengths"
      ]
    },
    {
      "cell_type": "code",
      "execution_count": null,
      "metadata": {
        "id": "0CSJNTCX2IFo"
      },
      "outputs": [],
      "source": [
        "#! ipython id=a612eb89648142969dd70a25f2329dc7\n",
        "set(map(len, strings))"
      ]
    },
    {
      "cell_type": "code",
      "execution_count": null,
      "metadata": {
        "id": "lWqQei-X2IFo"
      },
      "outputs": [],
      "source": [
        "#! ipython id=fcbefbee024e496eb46392a631375d9f\n",
        "loc_mapping = {value: index for index, value in enumerate(strings)}\n",
        "loc_mapping"
      ]
    },
    {
      "cell_type": "code",
      "execution_count": null,
      "metadata": {
        "id": "wEFdCace2IFo"
      },
      "outputs": [],
      "source": [
        "#! ipython id=018be34f69874e1e9871f87d3d02c69b\n",
        "all_data = [[\"John\", \"Emily\", \"Michael\", \"Mary\", \"Steven\"],\n",
        "            [\"Maria\", \"Juan\", \"Javier\", \"Natalia\", \"Pilar\"]]"
      ]
    },
    {
      "cell_type": "code",
      "execution_count": null,
      "metadata": {
        "id": "JwgS_lS72IFo"
      },
      "outputs": [],
      "source": [
        "#! ipython id=E829182B11D647519558FD46F48626A9\n",
        "names_of_interest = []\n",
        "#! blockstart\n",
        "for names in all_data:\n",
        "    enough_as = [name for name in names if name.count(\"a\") >= 2]\n",
        "    names_of_interest.extend(enough_as)\n",
        "#! blockend\n",
        "names_of_interest"
      ]
    },
    {
      "cell_type": "code",
      "execution_count": null,
      "metadata": {
        "id": "-G1Wd-WZ2IFo"
      },
      "outputs": [],
      "source": [
        "#! ipython id=d3c630997f40472db3bafccfb746f819\n",
        "result = [name for names in all_data for name in names\n",
        "          if name.count(\"a\") >= 2]\n",
        "result"
      ]
    },
    {
      "cell_type": "code",
      "execution_count": null,
      "metadata": {
        "id": "di972Jhr2IFo"
      },
      "outputs": [],
      "source": [
        "#! ipython id=bd50aef619e1481ab2451c8f86ce3d42\n",
        "some_tuples = [(1, 2, 3), (4, 5, 6), (7, 8, 9)]\n",
        "flattened = [x for tup in some_tuples for x in tup]\n",
        "flattened"
      ]
    },
    {
      "cell_type": "code",
      "execution_count": null,
      "metadata": {
        "id": "uNcAgqLJ2IFp"
      },
      "outputs": [],
      "source": [
        "#! ipython verbatim id=7E5891774F464818BCBCB3C2692682A6\n",
        "flattened = []\n",
        "\n",
        "for tup in some_tuples:\n",
        "    for x in tup:\n",
        "        flattened.append(x)"
      ]
    },
    {
      "cell_type": "code",
      "execution_count": null,
      "metadata": {
        "id": "wLOOOWqI2IFp"
      },
      "outputs": [],
      "source": [
        "#! ipython id=db1e87dd90fb4645820ff22fb0ca1379\n",
        "[[x for x in tup] for tup in some_tuples]"
      ]
    },
    {
      "cell_type": "code",
      "execution_count": null,
      "metadata": {
        "id": "XHbIO-7w2IFp"
      },
      "outputs": [],
      "source": [
        "#! ipython id=4673A12D54CE49829790310977A675A5\n",
        "def my_function(x, y):\n",
        "    return x + y"
      ]
    },
    {
      "cell_type": "code",
      "execution_count": null,
      "metadata": {
        "id": "hdETmCnd2IFp"
      },
      "outputs": [],
      "source": [
        "#! ipython id=E4F308DD00ED486B93AB620C2AC256B5\n",
        "my_function(1, 2)\n",
        "result = my_function(1, 2)\n",
        "result"
      ]
    },
    {
      "cell_type": "code",
      "execution_count": null,
      "metadata": {
        "id": "Ls6xp0i52IFp"
      },
      "outputs": [],
      "source": [
        "#! ipython id=1C8501E576A0458F98DD8EB0F59E8933\n",
        "def function_without_return(x):\n",
        "    print(x)\n",
        "\n",
        "result = function_without_return(\"hello!\")\n",
        "print(result)"
      ]
    },
    {
      "cell_type": "code",
      "execution_count": null,
      "metadata": {
        "id": "N-4MBw3D2IFp"
      },
      "outputs": [],
      "source": [
        "#! ipython verbatim id=4673A12D54CE49829790310977A675A5\n",
        "def my_function2(x, y, z=1.5):\n",
        "    if z > 1:\n",
        "        return z * (x + y)\n",
        "    else:\n",
        "        return z / (x + y)"
      ]
    },
    {
      "cell_type": "code",
      "execution_count": null,
      "metadata": {
        "id": "zuz_C6Qa2IFp"
      },
      "outputs": [],
      "source": [
        "#! ipython id=729E08FB177541928A87326230C7868A\n",
        "my_function2(5, 6, z=0.7)\n",
        "my_function2(3.14, 7, 3.5)\n",
        "my_function2(10, 20)"
      ]
    },
    {
      "cell_type": "code",
      "execution_count": null,
      "metadata": {
        "id": "GULUa8HP2IFq"
      },
      "outputs": [],
      "source": [
        "#! ipython id=988c7d961f684af09d7d9a9daa7c2bb9\n",
        "a = []\n",
        "def func():\n",
        "    for i in range(5):\n",
        "        a.append(i)"
      ]
    },
    {
      "cell_type": "code",
      "execution_count": null,
      "metadata": {
        "id": "l8LYk9Eb2IFq"
      },
      "outputs": [],
      "source": [
        "#! ipython id=b1fef1a73b914b2eb8effdd4df727d25\n",
        "func()\n",
        "a\n",
        "func()\n",
        "a"
      ]
    },
    {
      "cell_type": "code",
      "execution_count": null,
      "metadata": {
        "id": "C2vjVbI_2IFq"
      },
      "outputs": [],
      "source": [
        "#! ipython id=b5d2338ec6b64bdf9b50d4674b32f14f\n",
        "a = None\n",
        "#! blockstart\n",
        "def bind_a_variable():\n",
        "    global a\n",
        "    a = []\n",
        "bind_a_variable()\n",
        "#! blockend\n",
        "print(a)"
      ]
    },
    {
      "cell_type": "code",
      "execution_count": null,
      "metadata": {
        "id": "rzh1BBQf2IFq"
      },
      "outputs": [],
      "source": [
        "#! ipython id=022108f1e242478da353a3d86708ed47\n",
        "states = [\"   Alabama \", \"Georgia!\", \"Georgia\", \"georgia\", \"FlOrIda\",\n",
        "          \"south   carolina##\", \"West virginia?\"]"
      ]
    },
    {
      "cell_type": "code",
      "execution_count": null,
      "metadata": {
        "id": "rtE_8SYi2IFq"
      },
      "outputs": [],
      "source": [
        "#! ipython verbatim id=fb7c1a7bea534d85ba3b735097ad0235\n",
        "import re\n",
        "\n",
        "def clean_strings(strings):\n",
        "    result = []\n",
        "    for value in strings:\n",
        "        value = value.strip()\n",
        "        value = re.sub(\"[!#?]\", \"\", value)\n",
        "        value = value.title()\n",
        "        result.append(value)\n",
        "    return result"
      ]
    },
    {
      "cell_type": "code",
      "execution_count": null,
      "metadata": {
        "id": "lCVxctbb2IFq"
      },
      "outputs": [],
      "source": [
        "#! ipython id=7ea42274bc2947f3b4ebe209f9c7ee82\n",
        "clean_strings(states)"
      ]
    },
    {
      "cell_type": "code",
      "execution_count": null,
      "metadata": {
        "id": "diFnB45J2IFq"
      },
      "outputs": [],
      "source": [
        "#! ipython verbatim id=ce250f90f14e4c98ad8b8d108fa98bba\n",
        "def remove_punctuation(value):\n",
        "    return re.sub(\"[!#?]\", \"\", value)\n",
        "\n",
        "clean_ops = [str.strip, remove_punctuation, str.title]\n",
        "\n",
        "def clean_strings(strings, ops):\n",
        "    result = []\n",
        "    for value in strings:\n",
        "        for func in ops:\n",
        "            value = func(value)\n",
        "        result.append(value)\n",
        "    return result"
      ]
    },
    {
      "cell_type": "code",
      "execution_count": null,
      "metadata": {
        "id": "9EygLPP32IFr"
      },
      "outputs": [],
      "source": [
        "#! ipython id=e7f5b8fba1784d33833db3ee759a7e89\n",
        "clean_strings(states, clean_ops)"
      ]
    },
    {
      "cell_type": "code",
      "execution_count": null,
      "metadata": {
        "id": "ymorGDTi2IFr"
      },
      "outputs": [],
      "source": [
        "#! ipython id=68ccca27ff884667a981d5843c3b370a\n",
        "for x in map(remove_punctuation, states):\n",
        "    print(x)"
      ]
    },
    {
      "cell_type": "code",
      "execution_count": null,
      "metadata": {
        "id": "5_pBevkU2IFr"
      },
      "outputs": [],
      "source": [
        "#! ipython id=6995cf9cd38c4851b47bea0108ff374d\n",
        "def short_function(x):\n",
        "    return x * 2\n",
        "\n",
        "equiv_anon = lambda x: x * 2"
      ]
    },
    {
      "cell_type": "code",
      "execution_count": null,
      "metadata": {
        "id": "f_HN5Miw2IFr"
      },
      "outputs": [],
      "source": [
        "#! ipython id=c5fb98a7a6d7427085a4fc16d1aeaf8a\n",
        "def apply_to_list(some_list, f):\n",
        "    return [f(x) for x in some_list]\n",
        "\n",
        "ints = [4, 0, 1, 5, 6]\n",
        "apply_to_list(ints, lambda x: x * 2)"
      ]
    },
    {
      "cell_type": "code",
      "execution_count": null,
      "metadata": {
        "id": "S-8QUz2o2IFr"
      },
      "outputs": [],
      "source": [
        "#! ipython id=3c96075c117b4d29a8b0de3741b66f03\n",
        "strings = [\"foo\", \"card\", \"bar\", \"aaaa\", \"abab\"]"
      ]
    },
    {
      "cell_type": "code",
      "execution_count": null,
      "metadata": {
        "id": "j7O0ZrfK2IFr"
      },
      "outputs": [],
      "source": [
        "#! ipython id=35dc027b565e41be8c24a69bd348830e\n",
        "strings.sort(key=lambda x: len(set(x)))\n",
        "strings"
      ]
    },
    {
      "cell_type": "code",
      "execution_count": null,
      "metadata": {
        "id": "yUpKW3xE2IFr"
      },
      "outputs": [],
      "source": [
        "#! ipython id=ef32fe84f029417092e95b48dff21ee3\n",
        "some_dict = {\"a\": 1, \"b\": 2, \"c\": 3}\n",
        "for key in some_dict:\n",
        "    print(key)"
      ]
    },
    {
      "cell_type": "code",
      "execution_count": null,
      "metadata": {
        "id": "YzxA7Lwa2IFr"
      },
      "outputs": [],
      "source": [
        "#! ipython id=e21664c09fd74763b5bd9fd1c9b58bb2\n",
        "dict_iterator = iter(some_dict)\n",
        "dict_iterator"
      ]
    },
    {
      "cell_type": "code",
      "execution_count": null,
      "metadata": {
        "id": "g-Th72ma2IFr"
      },
      "outputs": [],
      "source": [
        "#! ipython id=295f6871ebff40a9a1113898043d6fbc\n",
        "list(dict_iterator)"
      ]
    },
    {
      "cell_type": "code",
      "execution_count": null,
      "metadata": {
        "id": "z1fZdedb2IFs"
      },
      "outputs": [],
      "source": [
        "#! ipython verbatim id=0cee7d7909eb4073b8c6424f1808a668\n",
        "def squares(n=10):\n",
        "    print(f\"Generating squares from 1 to {n ** 2}\")\n",
        "    for i in range(1, n + 1):\n",
        "        yield i ** 2"
      ]
    },
    {
      "cell_type": "code",
      "execution_count": null,
      "metadata": {
        "id": "zW_B1DhL2IFs"
      },
      "outputs": [],
      "source": [
        "#! ipython id=772dbe0e7ccf428c8dc574bb2909af24\n",
        "gen = squares()\n",
        "gen"
      ]
    },
    {
      "cell_type": "code",
      "execution_count": null,
      "metadata": {
        "id": "CLmQNn_M2IFs"
      },
      "outputs": [],
      "source": [
        "#! ipython id=6498f8f9727f48598248e2c51ae7b280\n",
        "for x in gen:\n",
        "    print(x, end=\" \")"
      ]
    },
    {
      "cell_type": "code",
      "execution_count": null,
      "metadata": {
        "id": "xjG8hq_G2IFs"
      },
      "outputs": [],
      "source": [
        "#! ipython id=27d6215331ba4508a6660521a46fda25\n",
        "gen = (x ** 2 for x in range(100))\n",
        "gen"
      ]
    },
    {
      "cell_type": "code",
      "execution_count": null,
      "metadata": {
        "id": "46ucER3x2IFs"
      },
      "outputs": [],
      "source": [
        "#! ipython id=8eeac2424de84f5c8e7d21dbbfb02566\n",
        "sum(x ** 2 for x in range(100))\n",
        "dict((i, i ** 2) for i in range(5))"
      ]
    },
    {
      "cell_type": "code",
      "execution_count": null,
      "metadata": {
        "id": "znCQ8awP2IFs"
      },
      "outputs": [],
      "source": [
        "#! ipython id=71edd1b5622e4acbbe73dfe2ba077f2d\n",
        "import itertools\n",
        "def first_letter(x):\n",
        "    return x[0]\n",
        "\n",
        "names = [\"Alan\", \"Adam\", \"Wes\", \"Will\", \"Albert\", \"Steven\"]\n",
        "\n",
        "for letter, names in itertools.groupby(names, first_letter):\n",
        "    print(letter, list(names)) # names is a generator"
      ]
    },
    {
      "cell_type": "code",
      "execution_count": null,
      "metadata": {
        "id": "mx0mi6Y-2IFs"
      },
      "outputs": [],
      "source": [
        "#! ipython allow_exceptions id=9bd5bd1b77e04bb9a199a632e657a587\n",
        "float(\"1.2345\")\n",
        "float(\"something\")"
      ]
    },
    {
      "cell_type": "code",
      "execution_count": null,
      "metadata": {
        "id": "ExlbOWFW2IFs"
      },
      "outputs": [],
      "source": [
        "#! ipython verbatim id=7324afff252e43d88e9f87c0668273e2\n",
        "def attempt_float(x):\n",
        "    try:\n",
        "        return float(x)\n",
        "    except:\n",
        "        return x"
      ]
    },
    {
      "cell_type": "code",
      "execution_count": null,
      "metadata": {
        "id": "z-S5E8aP2IFs"
      },
      "outputs": [],
      "source": [
        "#! ipython id=761d1de6e4c24a9981e15516315ed406\n",
        "attempt_float(\"1.2345\")\n",
        "attempt_float(\"something\")"
      ]
    },
    {
      "cell_type": "code",
      "execution_count": null,
      "metadata": {
        "id": "fUQD3fXd2IFt"
      },
      "outputs": [],
      "source": [
        "#! ipython allow_exceptions id=ba156be511f3418792b8abb5fa790d01\n",
        "float((1, 2))"
      ]
    },
    {
      "cell_type": "code",
      "execution_count": null,
      "metadata": {
        "id": "HzxXzS3V2IFt"
      },
      "outputs": [],
      "source": [
        "#! ipython verbatim id=599fbddb78b2439883ea0cb3d2fe7400\n",
        "def attempt_float(x):\n",
        "    try:\n",
        "        return float(x)\n",
        "    except ValueError:\n",
        "        return x"
      ]
    },
    {
      "cell_type": "code",
      "execution_count": null,
      "metadata": {
        "id": "B6RIqm7K2IFt"
      },
      "outputs": [],
      "source": [
        "#! ipython allow_exceptions id=7e3e9049b61d416f9e411378e7043e2c\n",
        "attempt_float((1, 2))"
      ]
    },
    {
      "cell_type": "code",
      "execution_count": null,
      "metadata": {
        "id": "NjDvSbSM2IFt"
      },
      "outputs": [],
      "source": [
        "#! ipython verbatim id=9a2f8c5351814558b1019f4f42d07d2e\n",
        "def attempt_float(x):\n",
        "    try:\n",
        "        return float(x)\n",
        "    except (TypeError, ValueError):\n",
        "        return x"
      ]
    },
    {
      "cell_type": "code",
      "execution_count": null,
      "metadata": {
        "id": "ZAuV6PAv2IFt"
      },
      "outputs": [],
      "source": [
        "#! ipython id=b4981a31b1a340448473e18ed3db5ccf\n",
        "path = \"examples/segismundo.txt\"\n",
        "f = open(path, encoding=\"utf-8\")"
      ]
    },
    {
      "cell_type": "code",
      "execution_count": null,
      "metadata": {
        "id": "O8ncA8j92IFt"
      },
      "outputs": [],
      "source": [
        "#! ipython id=3c4cc539ca7f465a8c40c73ac17e4e5f\n",
        "lines = [x.rstrip() for x in open(path, encoding=\"utf-8\")]\n",
        "lines"
      ]
    },
    {
      "cell_type": "code",
      "execution_count": null,
      "metadata": {
        "id": "PWiRPCTN2IFt"
      },
      "outputs": [],
      "source": [
        "#! ipython id=4b5aaa74913f4d41a264eca0d626c465\n",
        "f.close()"
      ]
    },
    {
      "cell_type": "code",
      "execution_count": null,
      "metadata": {
        "id": "9DdW_mpr2IFt"
      },
      "outputs": [],
      "source": [
        "#! ipython id=174c699a268447c4ba28d47a99402980\n",
        "with open(path, encoding=\"utf-8\") as f:\n",
        "    lines = [x.rstrip() for x in f]"
      ]
    },
    {
      "cell_type": "code",
      "execution_count": null,
      "metadata": {
        "id": "qu3SNUvC2IFt"
      },
      "outputs": [],
      "source": [
        "#! ipython id=d4529c243e7c49418ea310270a60f524\n",
        "f1 = open(path)\n",
        "f1.read(10)\n",
        "f2 = open(path, mode=\"rb\")  # Binary mode\n",
        "f2.read(10)"
      ]
    },
    {
      "cell_type": "code",
      "execution_count": null,
      "metadata": {
        "id": "lQnoF3My2IFu"
      },
      "outputs": [],
      "source": [
        "#! ipython id=a8f60ea5015849598ecd2bbd87a75174\n",
        "f1.tell()\n",
        "f2.tell()"
      ]
    },
    {
      "cell_type": "code",
      "execution_count": null,
      "metadata": {
        "id": "LidXZe4v2IFu"
      },
      "outputs": [],
      "source": [
        "#! ipython id=1b25166af8444a1d939b4184bf8f909b\n",
        "import sys\n",
        "sys.getdefaultencoding()"
      ]
    },
    {
      "cell_type": "code",
      "execution_count": null,
      "metadata": {
        "id": "nT-ZuSUy2IFu"
      },
      "outputs": [],
      "source": [
        "#! ipython id=91c150712de941cdb037bff70bf85fe4\n",
        "f1.seek(3)\n",
        "f1.read(1)\n",
        "f1.tell()"
      ]
    },
    {
      "cell_type": "code",
      "execution_count": null,
      "metadata": {
        "id": "OgcVL2F92IFu"
      },
      "outputs": [],
      "source": [
        "#! ipython id=0551307ffb834d36bbc23c1c26bb8e5f\n",
        "f1.close()\n",
        "f2.close()"
      ]
    },
    {
      "cell_type": "code",
      "execution_count": null,
      "metadata": {
        "id": "mTgM9Grq2IFu"
      },
      "outputs": [],
      "source": [
        "#! ipython id=e1abf2e446664da7ab1e1234a37603b7\n",
        "path\n",
        "\n",
        "with open(\"tmp.txt\", mode=\"w\") as handle:\n",
        "    handle.writelines(x for x in open(path) if len(x) > 1)\n",
        "\n",
        "with open(\"tmp.txt\") as f:\n",
        "    lines = f.readlines()\n",
        "\n",
        "lines"
      ]
    },
    {
      "cell_type": "code",
      "execution_count": null,
      "metadata": {
        "id": "E4TyCXEO2IFu"
      },
      "outputs": [],
      "source": [
        "#! ipython suppress id=7d7eec59e35d41a481366e32072e964c\n",
        "import os\n",
        "os.remove(\"tmp.txt\")"
      ]
    },
    {
      "cell_type": "code",
      "execution_count": null,
      "metadata": {
        "id": "SEoocnCf2IFu"
      },
      "outputs": [],
      "source": [
        "#! ipython id=5b95866731ae4b87b79b9dddc95622d9\n",
        "with open(path) as f:\n",
        "    chars = f.read(10)\n",
        "\n",
        "chars\n",
        "len(chars)"
      ]
    },
    {
      "cell_type": "code",
      "execution_count": null,
      "metadata": {
        "id": "31XiVdqX2IFu"
      },
      "outputs": [],
      "source": [
        "#! ipython id=e85aea11b3b5478f8f3e9b0b7d118c7a\n",
        "with open(path, mode=\"rb\") as f:\n",
        "    data = f.read(10)\n",
        "\n",
        "data"
      ]
    },
    {
      "cell_type": "code",
      "execution_count": null,
      "metadata": {
        "id": "yEfGis1x2IFu"
      },
      "outputs": [],
      "source": [
        "#! ipython allow_exceptions id=c5e296d66bab43e5bf74f097c5650f8d\n",
        "data.decode(\"utf-8\")\n",
        "data[:4].decode(\"utf-8\")"
      ]
    },
    {
      "cell_type": "code",
      "execution_count": null,
      "metadata": {
        "id": "YSkyPmgW2IFv"
      },
      "outputs": [],
      "source": [
        "#! ipython id=cb101430288e455dad4024b59b17aee1\n",
        "sink_path = \"sink.txt\"\n",
        "with open(path) as source:\n",
        "    with open(sink_path, \"x\", encoding=\"iso-8859-1\") as sink:\n",
        "        sink.write(source.read())\n",
        "\n",
        "with open(sink_path, encoding=\"iso-8859-1\") as f:\n",
        "    print(f.read(10))"
      ]
    },
    {
      "cell_type": "code",
      "execution_count": null,
      "metadata": {
        "id": "dIyyAkNP2IFv"
      },
      "outputs": [],
      "source": [
        "#! ipython suppress id=691ae68a0bd840d4b8d757af71ca26ca\n",
        "os.remove(sink_path)"
      ]
    },
    {
      "cell_type": "code",
      "execution_count": null,
      "metadata": {
        "id": "_p38-HdU2IFv"
      },
      "outputs": [],
      "source": [
        "#! ipython allow_exceptions id=e915449c2d9e4f0b8f639a2cb1d20552\n",
        "f = open(path, encoding='utf-8')\n",
        "f.read(5)\n",
        "f.seek(4)\n",
        "f.read(1)\n",
        "f.close()"
      ]
    },
    {
      "cell_type": "code",
      "execution_count": null,
      "metadata": {
        "id": "IiTK202E2IFv"
      },
      "outputs": [],
      "source": [
        "#! ipython suppress id=9ccad96340cf4d5ebf20ee72f884f64f\n",
        "%popd"
      ]
    }
  ],
  "metadata": {
    "kernelspec": {
      "display_name": "Python 3",
      "language": "python",
      "name": "python3"
    },
    "language_info": {
      "codemirror_mode": {
        "name": "ipython",
        "version": 3
      },
      "file_extension": ".py",
      "mimetype": "text/x-python",
      "name": "python",
      "nbconvert_exporter": "python",
      "pygments_lexer": "ipython3",
      "version": "3.7.6"
    },
    "colab": {
      "provenance": []
    }
  },
  "nbformat": 4,
  "nbformat_minor": 0
}