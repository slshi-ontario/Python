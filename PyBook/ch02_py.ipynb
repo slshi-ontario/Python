{
  "cells": [
    {
      "cell_type": "code",
      "execution_count": null,
      "metadata": {
        "id": "ZcJtXO3w2IrL"
      },
      "outputs": [],
      "source": [
        "#! ipython suppress id=b0641b6ae09942babe0c88f69c55482d\n",
        "%pushd book-materials\n",
        "import numpy as np\n",
        "np.random.seed(12345)\n",
        "np.set_printoptions(precision=4, suppress=True)"
      ]
    },
    {
      "cell_type": "code",
      "execution_count": null,
      "metadata": {
        "id": "ITFRpxfw2IrM"
      },
      "outputs": [],
      "source": [
        "#! ipython id=085dfdc5abf744bebb6e84ea614aa99d\n",
        "import numpy as np\n",
        "data = [np.random.standard_normal() for i in range(7)]\n",
        "data"
      ]
    },
    {
      "cell_type": "code",
      "execution_count": null,
      "metadata": {
        "id": "sQQ1iJQD2IrM"
      },
      "outputs": [],
      "source": [
        "#! ipython id=1a4e6fcb22eb4f89986abfae4c83b48d\n",
        "a = [1, 2, 3]"
      ]
    },
    {
      "cell_type": "code",
      "execution_count": null,
      "metadata": {
        "id": "01ZnGpfz2IrM"
      },
      "outputs": [],
      "source": [
        "#! ipython id=64f8a5dfa016429c8d659bf729003401\n",
        "b = a\n",
        "b"
      ]
    },
    {
      "cell_type": "code",
      "execution_count": null,
      "metadata": {
        "id": "D11rvDa-2IrN"
      },
      "outputs": [],
      "source": [
        "#! ipython id=0eced45afa5347248bb2af66fa5c4e2b\n",
        "a.append(4)\n",
        "b"
      ]
    },
    {
      "cell_type": "code",
      "execution_count": null,
      "metadata": {
        "id": "wqoVbQtK2IrN"
      },
      "outputs": [],
      "source": [
        "#! ipython id=1018283ab59f4f05bfe84afca4fc9936\n",
        "def append_element(some_list, element):\n",
        "    some_list.append(element)"
      ]
    },
    {
      "cell_type": "code",
      "execution_count": null,
      "metadata": {
        "id": "CpWJGD9O2IrN"
      },
      "outputs": [],
      "source": [
        "#! ipython id=2edb843baee44895b71dbd9474407c9c\n",
        "data = [1, 2, 3]\n",
        "append_element(data, 4)\n",
        "data"
      ]
    },
    {
      "cell_type": "code",
      "execution_count": null,
      "metadata": {
        "id": "RcoweHyV2IrN"
      },
      "outputs": [],
      "source": [
        "#! ipython id=e71481e654d64e649533772a2381a3c6\n",
        "a = 5\n",
        "type(a)\n",
        "a = \"foo\"\n",
        "type(a)"
      ]
    },
    {
      "cell_type": "code",
      "execution_count": null,
      "metadata": {
        "id": "D2lg-5Oy2IrN"
      },
      "outputs": [],
      "source": [
        "#! ipython allow_exceptions id=c9cf6d998c39413a9fc48646f91dec3e\n",
        "\"5\" + 5"
      ]
    },
    {
      "cell_type": "code",
      "execution_count": null,
      "metadata": {
        "id": "OyIPK8gk2IrO"
      },
      "outputs": [],
      "source": [
        "#! ipython id=0003b825a15647e49598d18de47cbd57\n",
        "a = 4.5\n",
        "b = 2\n",
        "# String formatting, to be visited later\n",
        "print(f\"a is {type(a)}, b is {type(b)}\")\n",
        "a / b"
      ]
    },
    {
      "cell_type": "code",
      "execution_count": null,
      "metadata": {
        "id": "TlZrSh0X2IrO"
      },
      "outputs": [],
      "source": [
        "#! ipython id=f3d0ca0ebd384742976ccd83633ac8be\n",
        "a = 5\n",
        "isinstance(a, int)"
      ]
    },
    {
      "cell_type": "code",
      "execution_count": null,
      "metadata": {
        "id": "cipjpZyz2IrO"
      },
      "outputs": [],
      "source": [
        "#! ipython id=5dacb5ef6e394fe7a8b3f724cb9cdf4d\n",
        "a = 5; b = 4.5\n",
        "isinstance(a, (int, float))\n",
        "isinstance(b, (int, float))"
      ]
    },
    {
      "cell_type": "code",
      "execution_count": null,
      "metadata": {
        "id": "gfF6keL42IrO"
      },
      "outputs": [],
      "source": [
        "#! ipython suppress id=7bd32461c0bf45ff9bee3de05a7fa5cf\n",
        "a = \"foo\""
      ]
    },
    {
      "cell_type": "code",
      "execution_count": null,
      "metadata": {
        "id": "st752xqZ2IrO"
      },
      "outputs": [],
      "source": [
        "#! ipython id=d2aef8895e6f4b67aaa1d6cbd2b6affa\n",
        "getattr(a, \"split\")"
      ]
    },
    {
      "cell_type": "code",
      "execution_count": null,
      "metadata": {
        "id": "lhdekoIi2IrP"
      },
      "outputs": [],
      "source": [
        "#! ipython id=f2617db9765f49009c55756ce9cf87cd\n",
        "def isiterable(obj):\n",
        "    try:\n",
        "        iter(obj)\n",
        "        return True\n",
        "    except TypeError: # not iterable\n",
        "        return False"
      ]
    },
    {
      "cell_type": "code",
      "execution_count": null,
      "metadata": {
        "id": "4vzxcaSZ2IrP"
      },
      "outputs": [],
      "source": [
        "#! ipython id=1ea41933d16e460380316fd7a4e0b1d8\n",
        "isiterable(\"a string\")\n",
        "isiterable([1, 2, 3])\n",
        "isiterable(5)"
      ]
    },
    {
      "cell_type": "code",
      "execution_count": null,
      "metadata": {
        "id": "bBTVGLMS2IrP"
      },
      "outputs": [],
      "source": [
        "#! ipython id=84c35fbe613341129d0e94d6fc798e76\n",
        "5 - 7\n",
        "12 + 21.5\n",
        "5 <= 2"
      ]
    },
    {
      "cell_type": "code",
      "execution_count": null,
      "metadata": {
        "id": "7iKvDzcO2IrP"
      },
      "outputs": [],
      "source": [
        "#! ipython id=a91f01a0ee1e43e2a000db5609d04789\n",
        "a = [1, 2, 3]\n",
        "b = a\n",
        "c = list(a)\n",
        "a is b\n",
        "a is not c"
      ]
    },
    {
      "cell_type": "code",
      "execution_count": null,
      "metadata": {
        "id": "J5JYeWVU2IrP"
      },
      "outputs": [],
      "source": [
        "#! ipython id=1fca12df22264d9881690fcaa804149d\n",
        "a == c"
      ]
    },
    {
      "cell_type": "code",
      "execution_count": null,
      "metadata": {
        "id": "t8_g-9Dn2IrP"
      },
      "outputs": [],
      "source": [
        "#! ipython id=e6fe568326a94c0d899c9c8b31f0c355\n",
        "a = None\n",
        "a is None"
      ]
    },
    {
      "cell_type": "code",
      "execution_count": null,
      "metadata": {
        "id": "nW-5ns3B2IrQ"
      },
      "outputs": [],
      "source": [
        "#! ipython id=7db7331aee334850b9b17cb4f86e6d18\n",
        "a_list = [\"foo\", 2, [4, 5]]\n",
        "a_list[2] = (3, 4)\n",
        "a_list"
      ]
    },
    {
      "cell_type": "code",
      "execution_count": null,
      "metadata": {
        "id": "y4EOtlL72IrQ"
      },
      "outputs": [],
      "source": [
        "#! ipython allow_exceptions id=2536d7cdf32b4faaa753207cbfcc17fe\n",
        "a_tuple = (3, 5, (4, 5))\n",
        "a_tuple[1] = \"four\""
      ]
    },
    {
      "cell_type": "code",
      "execution_count": null,
      "metadata": {
        "id": "EJvw-Qf_2IrQ"
      },
      "outputs": [],
      "source": [
        "#! ipython id=51ad7d167b834b85a8eda9bc416c955b\n",
        "ival = 17239871\n",
        "ival ** 6"
      ]
    },
    {
      "cell_type": "code",
      "execution_count": null,
      "metadata": {
        "id": "MAuxXRr32IrQ"
      },
      "outputs": [],
      "source": [
        "#! ipython id=3350052c32fc49b599322353c27a4586\n",
        "fval = 7.243\n",
        "fval2 = 6.78e-5"
      ]
    },
    {
      "cell_type": "code",
      "execution_count": null,
      "metadata": {
        "id": "8RJTGMLV2IrQ"
      },
      "outputs": [],
      "source": [
        "#! ipython id=38bc4370bb6840c5beb557dead1d6998\n",
        "3 / 2"
      ]
    },
    {
      "cell_type": "code",
      "execution_count": null,
      "metadata": {
        "id": "3wE58GnY2IrQ"
      },
      "outputs": [],
      "source": [
        "#! ipython id=2ccf1adf240348008ed8ce811792dbf8\n",
        "3 // 2"
      ]
    },
    {
      "cell_type": "code",
      "execution_count": null,
      "metadata": {
        "id": "EF8u4u7X2IrR"
      },
      "outputs": [],
      "source": [
        "#! ipython verbatim id=f1454b6b49ff4e2bba6124576e18cd53\n",
        "c = \"\"\"\n",
        "This is a longer string that\n",
        "spans multiple lines\n",
        "\"\"\""
      ]
    },
    {
      "cell_type": "code",
      "execution_count": null,
      "metadata": {
        "id": "5VJyaXTZ2IrR"
      },
      "outputs": [],
      "source": [
        "#! ipython id=03cb238d855d42dda40a45ab91254038\n",
        "c.count(\"\\n\")"
      ]
    },
    {
      "cell_type": "code",
      "execution_count": null,
      "metadata": {
        "id": "8hWNgkch2IrR"
      },
      "outputs": [],
      "source": [
        "#! ipython allow_exceptions id=59788f621484492ba307f10961edbb6c\n",
        "a = \"this is a string\"\n",
        "a[10] = \"f\""
      ]
    },
    {
      "cell_type": "code",
      "execution_count": null,
      "metadata": {
        "id": "uDxXPzk92IrR"
      },
      "outputs": [],
      "source": [
        "#! ipython id=f5c3a08f5aaf4706a5122f3ef51f5e89\n",
        "b = a.replace(\"string\", \"longer string\")\n",
        "b"
      ]
    },
    {
      "cell_type": "code",
      "execution_count": null,
      "metadata": {
        "id": "IlL6FD4-2IrR"
      },
      "outputs": [],
      "source": [
        "#! ipython id=90017a4e11754eac828714ee61b43ac1\n",
        "a"
      ]
    },
    {
      "cell_type": "code",
      "execution_count": null,
      "metadata": {
        "id": "Qt62ihl_2IrR"
      },
      "outputs": [],
      "source": [
        "#! ipython id=99b192a5b56946cda8707464fb8e2bea\n",
        "a = 5.6\n",
        "s = str(a)\n",
        "print(s)"
      ]
    },
    {
      "cell_type": "code",
      "execution_count": null,
      "metadata": {
        "id": "zwWxhh162IrR"
      },
      "outputs": [],
      "source": [
        "#! ipython id=5bce41fece2f47bc90fb813f26cfa081\n",
        "s = \"python\"\n",
        "list(s)\n",
        "s[:3]"
      ]
    },
    {
      "cell_type": "code",
      "execution_count": null,
      "metadata": {
        "id": "0mLFLkiF2IrR"
      },
      "outputs": [],
      "source": [
        "#! ipython id=c826919c945643b8adb2dc48b3fa204b\n",
        "s = \"12\\\\34\"\n",
        "print(s)"
      ]
    },
    {
      "cell_type": "code",
      "execution_count": null,
      "metadata": {
        "id": "M4Zk551k2IrR"
      },
      "outputs": [],
      "source": [
        "#! ipython id=f705192174ec4c849203a659260960e0\n",
        "s = r\"this\\has\\no\\special\\characters\"\n",
        "s"
      ]
    },
    {
      "cell_type": "code",
      "execution_count": null,
      "metadata": {
        "id": "T3ntl_dv2IrT"
      },
      "outputs": [],
      "source": [
        "#! ipython id=9e52b9bfcf734a899ad5b9deecc6b5f1\n",
        "a = \"this is the first half \"\n",
        "b = \"and this is the second half\"\n",
        "a + b"
      ]
    },
    {
      "cell_type": "code",
      "execution_count": null,
      "metadata": {
        "id": "ST5P-7d-2IrT"
      },
      "outputs": [],
      "source": [
        "#! ipython id=8ba0128b1e144dfd87b0a96bbb95e090\n",
        "template = \"{0:.2f} {1:s} are worth US${2:d}\""
      ]
    },
    {
      "cell_type": "code",
      "execution_count": null,
      "metadata": {
        "id": "xcsi9cos2IrT"
      },
      "outputs": [],
      "source": [
        "#! ipython id=830e8c337251466d8704122c38e4a31d\n",
        "template.format(88.46, \"Argentine Pesos\", 1)"
      ]
    },
    {
      "cell_type": "code",
      "execution_count": null,
      "metadata": {
        "id": "Ntg-Tks72IrT"
      },
      "outputs": [],
      "source": [
        "#! ipython id=c5eab29881e7453bbdc2b8d3f1e81924\n",
        "amount = 10\n",
        "rate = 88.46\n",
        "currency = \"Pesos\"\n",
        "result = f\"{amount} {currency} is worth US${amount / rate}\""
      ]
    },
    {
      "cell_type": "code",
      "execution_count": null,
      "metadata": {
        "id": "rQNkbKkZ2IrT"
      },
      "outputs": [],
      "source": [
        "#! ipython id=d4d50688c6c145d5a2d11d846f03dba2\n",
        "f\"{amount} {currency} is worth US${amount / rate:.2f}\""
      ]
    },
    {
      "cell_type": "code",
      "execution_count": null,
      "metadata": {
        "id": "-QbXnvqW2IrT"
      },
      "outputs": [],
      "source": [
        "#! ipython id=fe3d6a3ffd5c4906858baeb46363aee5\n",
        "val = \"español\"\n",
        "val"
      ]
    },
    {
      "cell_type": "code",
      "execution_count": null,
      "metadata": {
        "id": "JGZg4fgQ2IrT"
      },
      "outputs": [],
      "source": [
        "#! ipython id=f1369533406f414ea648c7b80c22cba3\n",
        "val_utf8 = val.encode(\"utf-8\")\n",
        "val_utf8\n",
        "type(val_utf8)"
      ]
    },
    {
      "cell_type": "code",
      "execution_count": null,
      "metadata": {
        "id": "ybj8MlzC2IrU"
      },
      "outputs": [],
      "source": [
        "#! ipython id=6cfcab789284478f9fe920568aad6276\n",
        "val_utf8.decode(\"utf-8\")"
      ]
    },
    {
      "cell_type": "code",
      "execution_count": null,
      "metadata": {
        "id": "S_O7zcQH2IrU"
      },
      "outputs": [],
      "source": [
        "#! ipython id=9e55ca7c4e2642e5a26f603523e87564\n",
        "val.encode(\"latin1\")\n",
        "val.encode(\"utf-16\")\n",
        "val.encode(\"utf-16le\")"
      ]
    },
    {
      "cell_type": "code",
      "execution_count": null,
      "metadata": {
        "id": "ApE3u71D2IrU"
      },
      "outputs": [],
      "source": [
        "#! ipython id=422e235bb54842adb436742e6caba89c\n",
        "True and True\n",
        "False or True"
      ]
    },
    {
      "cell_type": "code",
      "execution_count": null,
      "metadata": {
        "id": "5PDKcTkz2IrU"
      },
      "outputs": [],
      "source": [
        "#! ipython id=1051ac23010f466c8f2160c865da145f\n",
        "int(False)\n",
        "int(True)"
      ]
    },
    {
      "cell_type": "code",
      "execution_count": null,
      "metadata": {
        "id": "kzcP0ALt2IrU"
      },
      "outputs": [],
      "source": [
        "#! ipython id=14dc7378115c43349c92e34020bb3b71\n",
        "a = True\n",
        "b = False\n",
        "not a\n",
        "not b"
      ]
    },
    {
      "cell_type": "code",
      "execution_count": null,
      "metadata": {
        "id": "hSPUOoXG2IrU"
      },
      "outputs": [],
      "source": [
        "#! ipython id=345c0ce8702b41539a102f07716ff00d\n",
        "s = \"3.14159\"\n",
        "fval = float(s)\n",
        "type(fval)\n",
        "int(fval)\n",
        "bool(fval)\n",
        "bool(0)"
      ]
    },
    {
      "cell_type": "code",
      "execution_count": null,
      "metadata": {
        "id": "QjsJ3K3c2IrU"
      },
      "outputs": [],
      "source": [
        "#! ipython id=163e5f37123741a88e61ef81c85fedc1\n",
        "a = None\n",
        "a is None\n",
        "b = 5\n",
        "b is not None"
      ]
    },
    {
      "cell_type": "code",
      "execution_count": null,
      "metadata": {
        "id": "C8JfvDN72IrU"
      },
      "outputs": [],
      "source": [
        "#! ipython id=552d7fff9f2a45a38b54fa44add624c7\n",
        "from datetime import datetime, date, time\n",
        "dt = datetime(2011, 10, 29, 20, 30, 21)\n",
        "dt.day\n",
        "dt.minute"
      ]
    },
    {
      "cell_type": "code",
      "execution_count": null,
      "metadata": {
        "id": "WqISCsxa2IrU"
      },
      "outputs": [],
      "source": [
        "#! ipython id=a527d76de7e141568e7dd9e5c9f8d8ce\n",
        "dt.date()\n",
        "dt.time()"
      ]
    },
    {
      "cell_type": "code",
      "execution_count": null,
      "metadata": {
        "id": "VfnsS-Ak2IrV"
      },
      "outputs": [],
      "source": [
        "#! ipython id=9bd051a88f7b458fae19e8e156fda078\n",
        "dt.strftime(\"%Y-%m-%d %H:%M\")"
      ]
    },
    {
      "cell_type": "code",
      "execution_count": null,
      "metadata": {
        "id": "OYR165a92IrV"
      },
      "outputs": [],
      "source": [
        "#! ipython id=3fe2b447220b4b8ca70b526d76e31cb5\n",
        "datetime.strptime(\"20091031\", \"%Y%m%d\")"
      ]
    },
    {
      "cell_type": "code",
      "execution_count": null,
      "metadata": {
        "id": "a_UN8Y8F2IrV"
      },
      "outputs": [],
      "source": [
        "#! ipython id=178fb4d50aff4d68a0a7e0ab28ee71f3\n",
        "dt_hour = dt.replace(minute=0, second=0)\n",
        "dt_hour"
      ]
    },
    {
      "cell_type": "code",
      "execution_count": null,
      "metadata": {
        "id": "MNROakzm2IrV"
      },
      "outputs": [],
      "source": [
        "#! ipython id=9ad24ebe03e049b2af9a81ec22a90675\n",
        "dt"
      ]
    },
    {
      "cell_type": "code",
      "execution_count": null,
      "metadata": {
        "id": "ukLLBOsO2IrV"
      },
      "outputs": [],
      "source": [
        "#! ipython id=1a41f2e49eee432cbc4a32f4298e1f3c\n",
        "dt2 = datetime(2011, 11, 15, 22, 30)\n",
        "delta = dt2 - dt\n",
        "delta\n",
        "type(delta)"
      ]
    },
    {
      "cell_type": "code",
      "execution_count": null,
      "metadata": {
        "id": "WcbkNV-K2IrV"
      },
      "outputs": [],
      "source": [
        "#! ipython id=04baa0c20d534202ad4714e5c68d04a4\n",
        "dt\n",
        "dt + delta"
      ]
    },
    {
      "cell_type": "code",
      "execution_count": null,
      "metadata": {
        "id": "szIuXJ4h2IrV"
      },
      "outputs": [],
      "source": [
        "#! ipython id=6551625a4f864b5fb5ce6b81e5ffd81b\n",
        "a = 5; b = 7\n",
        "c = 8; d = 4\n",
        "if a < b or c > d:\n",
        "    print(\"Made it\")"
      ]
    },
    {
      "cell_type": "code",
      "execution_count": null,
      "metadata": {
        "id": "dajGur5q2IrW"
      },
      "outputs": [],
      "source": [
        "#! ipython id=ace8e0c5cbb349cb852d8248394b0f7c\n",
        "4 > 3 > 2 > 1"
      ]
    },
    {
      "cell_type": "code",
      "execution_count": null,
      "metadata": {
        "id": "QLMt0uRR2IrW"
      },
      "outputs": [],
      "source": [
        "#! ipython id=6e3b4a652a894d25906ad84f8b4248ea\n",
        "#! blockstart\n",
        "for i in range(4):\n",
        "    for j in range(4):\n",
        "        if j > i:\n",
        "            break\n",
        "        print((i, j))\n",
        "#! blockend"
      ]
    },
    {
      "cell_type": "code",
      "execution_count": null,
      "metadata": {
        "id": "8uHcdavp2IrW"
      },
      "outputs": [],
      "source": [
        "#! ipython id=60383320960a45bcb83e21d713d5619c\n",
        "range(10)\n",
        "list(range(10))"
      ]
    },
    {
      "cell_type": "code",
      "execution_count": null,
      "metadata": {
        "id": "2JCNBAej2IrW"
      },
      "outputs": [],
      "source": [
        "#! ipython id=71696aba433c43f6b2e05d488837f0f3\n",
        "list(range(0, 20, 2))\n",
        "list(range(5, 0, -1))"
      ]
    },
    {
      "cell_type": "code",
      "execution_count": null,
      "metadata": {
        "id": "1j1X--i22IrW"
      },
      "outputs": [],
      "source": [
        "#! ipython id=c9e25935441242149e5f4b406032113f\n",
        "seq = [1, 2, 3, 4]\n",
        "for i in range(len(seq)):\n",
        "    print(f\"element {i}: {seq[i]}\")"
      ]
    },
    {
      "cell_type": "code",
      "execution_count": null,
      "metadata": {
        "id": "JndrqpUP2IrW"
      },
      "outputs": [],
      "source": [
        "#! ipython id=430c1852ec4847bcad3afc4a3a68c2f3\n",
        "total = 0\n",
        "for i in range(100_000):\n",
        "    # % is the modulo operator\n",
        "    if i % 3 == 0 or i % 5 == 0:\n",
        "        total += i\n",
        "print(total)"
      ]
    },
    {
      "cell_type": "code",
      "execution_count": null,
      "metadata": {
        "id": "XegnYOPr2IrW"
      },
      "outputs": [],
      "source": [
        "#! ipython suppress id=25d6eae18f4846ed89c817cb487df3b5\n",
        "%popd"
      ]
    }
  ],
  "metadata": {
    "kernelspec": {
      "display_name": "Python 3",
      "language": "python",
      "name": "python3"
    },
    "language_info": {
      "codemirror_mode": {
        "name": "ipython",
        "version": 3
      },
      "file_extension": ".py",
      "mimetype": "text/x-python",
      "name": "python",
      "nbconvert_exporter": "python",
      "pygments_lexer": "ipython3",
      "version": "3.7.6"
    },
    "colab": {
      "provenance": []
    }
  },
  "nbformat": 4,
  "nbformat_minor": 0
}