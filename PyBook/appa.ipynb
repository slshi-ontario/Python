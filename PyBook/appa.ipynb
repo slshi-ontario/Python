{
  "cells": [
    {
      "cell_type": "code",
      "execution_count": null,
      "metadata": {
        "id": "DydRcUtx2JrC"
      },
      "outputs": [],
      "source": [
        "#! ipython suppress id=e926030638df4e2f922f33c9c27afc51\n",
        "%pushd book-materials\n",
        "import numpy as np\n",
        "import pandas as pd\n",
        "import matplotlib.pyplot as plt\n",
        "plt.rc('figure', figsize=(10, 6))\n",
        "PREVIOUS_MAX_ROWS = pd.options.display.max_rows\n",
        "pd.options.display.max_columns = 20\n",
        "pd.options.display.max_rows = 20\n",
        "pd.options.display.max_colwidth = 80\n",
        "np.set_printoptions(precision=4, suppress=True)"
      ]
    },
    {
      "cell_type": "code",
      "execution_count": null,
      "metadata": {
        "id": "2fYeImqY2JrD"
      },
      "outputs": [],
      "source": [
        "#! ipython id=d620c53910a240e69ece77ec9bd156f6\n",
        "rng = np.random.default_rng(seed=12345)"
      ]
    },
    {
      "cell_type": "code",
      "execution_count": null,
      "metadata": {
        "id": "R6ebBDOb2JrD"
      },
      "outputs": [],
      "source": [
        "#! ipython id=b4eb8d5574a54518973f910d623bf5e8\n",
        "np.ones((10, 5)).shape"
      ]
    },
    {
      "cell_type": "code",
      "execution_count": null,
      "metadata": {
        "id": "GKFAJYO_2JrE"
      },
      "outputs": [],
      "source": [
        "#! ipython id=7bf22ceac5c94f9bba173f578a933d8a\n",
        "np.ones((3, 4, 5), dtype=np.float64).strides"
      ]
    },
    {
      "cell_type": "code",
      "execution_count": null,
      "metadata": {
        "id": "e_EMT2lW2JrE"
      },
      "outputs": [],
      "source": [
        "#! ipython id=7d56951cbc81495790806d99f88db611\n",
        "ints = np.ones(10, dtype=np.uint16)\n",
        "floats = np.ones(10, dtype=np.float32)\n",
        "np.issubdtype(ints.dtype, np.integer)\n",
        "np.issubdtype(floats.dtype, np.floating)"
      ]
    },
    {
      "cell_type": "code",
      "execution_count": null,
      "metadata": {
        "id": "0jf3K83f2JrE"
      },
      "outputs": [],
      "source": [
        "#! ipython id=7c790b51cfef43789583e81d44f667eb\n",
        "np.float64.mro()"
      ]
    },
    {
      "cell_type": "code",
      "execution_count": null,
      "metadata": {
        "id": "Cbepaf2F2JrE"
      },
      "outputs": [],
      "source": [
        "#! ipython id=802b4959858f42f68fdd8223778c6461\n",
        "np.issubdtype(ints.dtype, np.number)"
      ]
    },
    {
      "cell_type": "code",
      "execution_count": null,
      "metadata": {
        "id": "nOsqOS_O2JrE"
      },
      "outputs": [],
      "source": [
        "#! ipython id=ce8ef0b9be0541258afa90e9a306b2d5\n",
        "arr = np.arange(8)\n",
        "arr\n",
        "arr.reshape((4, 2))"
      ]
    },
    {
      "cell_type": "code",
      "execution_count": null,
      "metadata": {
        "id": "jwZf7x4S2JrE"
      },
      "outputs": [],
      "source": [
        "#! ipython id=7f3a7b2404af44ecb287104171672800\n",
        "arr.reshape((4, 2)).reshape((2, 4))"
      ]
    },
    {
      "cell_type": "code",
      "execution_count": null,
      "metadata": {
        "id": "0Lm6aEwV2JrF"
      },
      "outputs": [],
      "source": [
        "#! ipython id=a22eb31894eb44e9af770cafd2dc82f8\n",
        "arr = np.arange(15)\n",
        "arr.reshape((5, -1))"
      ]
    },
    {
      "cell_type": "code",
      "execution_count": null,
      "metadata": {
        "id": "ru-LqGGL2JrF"
      },
      "outputs": [],
      "source": [
        "#! ipython id=3c3a3b489e7c4e77b4405c114b61cebc\n",
        "other_arr = np.ones((3, 5))\n",
        "other_arr.shape\n",
        "arr.reshape(other_arr.shape)"
      ]
    },
    {
      "cell_type": "code",
      "execution_count": null,
      "metadata": {
        "id": "uhFQweW_2JrF"
      },
      "outputs": [],
      "source": [
        "#! ipython id=e9ffffb7cf6d4703bba796bee68d0a55\n",
        "arr = np.arange(15).reshape((5, 3))\n",
        "arr\n",
        "arr.ravel()"
      ]
    },
    {
      "cell_type": "code",
      "execution_count": null,
      "metadata": {
        "id": "J5xCskFq2JrF"
      },
      "outputs": [],
      "source": [
        "#! ipython id=07195f02b51e408cb21a126d3001d130\n",
        "arr.flatten()"
      ]
    },
    {
      "cell_type": "code",
      "execution_count": null,
      "metadata": {
        "id": "3KDpwgKV2JrF"
      },
      "outputs": [],
      "source": [
        "#! ipython id=bc83d3159fff4c5da487f3981f727c07\n",
        "arr = np.arange(12).reshape((3, 4))\n",
        "arr\n",
        "arr.ravel()\n",
        "arr.ravel('F')"
      ]
    },
    {
      "cell_type": "code",
      "execution_count": null,
      "metadata": {
        "id": "ZQJBnAXQ2JrG"
      },
      "outputs": [],
      "source": [
        "#! ipython id=c0bea878f4d74ef9b5bce94b88b90b3b\n",
        "arr1 = np.array([[1, 2, 3], [4, 5, 6]])\n",
        "arr2 = np.array([[7, 8, 9], [10, 11, 12]])\n",
        "np.concatenate([arr1, arr2], axis=0)\n",
        "np.concatenate([arr1, arr2], axis=1)"
      ]
    },
    {
      "cell_type": "code",
      "execution_count": null,
      "metadata": {
        "id": "LxchuOUJ2JrG"
      },
      "outputs": [],
      "source": [
        "#! ipython id=33efa139bb234d10817538b49b41fc02\n",
        "np.vstack((arr1, arr2))\n",
        "np.hstack((arr1, arr2))"
      ]
    },
    {
      "cell_type": "code",
      "execution_count": null,
      "metadata": {
        "id": "O_ErrdQC2JrG"
      },
      "outputs": [],
      "source": [
        "#! ipython id=6e069f660a754dab80caf4ea98d8161f\n",
        "arr = rng.standard_normal((5, 2))\n",
        "arr\n",
        "first, second, third = np.split(arr, [1, 3])\n",
        "first\n",
        "second\n",
        "third"
      ]
    },
    {
      "cell_type": "code",
      "execution_count": null,
      "metadata": {
        "id": "D5U4iGD92JrG"
      },
      "outputs": [],
      "source": [
        "#! ipython id=988edd872ce94799b21ff68a2aedc0cb\n",
        "arr = np.arange(6)\n",
        "arr1 = arr.reshape((3, 2))\n",
        "arr2 = rng.standard_normal((3, 2))\n",
        "np.r_[arr1, arr2]\n",
        "np.c_[np.r_[arr1, arr2], arr]"
      ]
    },
    {
      "cell_type": "code",
      "execution_count": null,
      "metadata": {
        "id": "sNtF32E_2JrG"
      },
      "outputs": [],
      "source": [
        "#! ipython id=9756c6c66e71442cbf99da0bc5723058\n",
        "np.c_[1:6, -10:-5]"
      ]
    },
    {
      "cell_type": "code",
      "execution_count": null,
      "metadata": {
        "id": "xwov6JOS2JrG"
      },
      "outputs": [],
      "source": [
        "#! ipython id=cebbe60be04246d6b5c099fb47cfe223\n",
        "arr = np.arange(3)\n",
        "arr\n",
        "arr.repeat(3)"
      ]
    },
    {
      "cell_type": "code",
      "execution_count": null,
      "metadata": {
        "id": "IEuKFeWW2JrH"
      },
      "outputs": [],
      "source": [
        "#! ipython id=5ed5884236d343a4b896eaefe3282631\n",
        "arr.repeat([2, 3, 4])"
      ]
    },
    {
      "cell_type": "code",
      "execution_count": null,
      "metadata": {
        "id": "_1I_FaPt2JrH"
      },
      "outputs": [],
      "source": [
        "#! ipython id=1ec3cee8c380412692d75b15c8a95f04\n",
        "arr = rng.standard_normal((2, 2))\n",
        "arr\n",
        "arr.repeat(2, axis=0)"
      ]
    },
    {
      "cell_type": "code",
      "execution_count": null,
      "metadata": {
        "id": "gqtvTGpP2JrH"
      },
      "outputs": [],
      "source": [
        "#! ipython id=edf606b3fc364243bfb27eae78a59308\n",
        "arr.repeat([2, 3], axis=0)\n",
        "arr.repeat([2, 3], axis=1)"
      ]
    },
    {
      "cell_type": "code",
      "execution_count": null,
      "metadata": {
        "id": "rO6DRs802JrH"
      },
      "outputs": [],
      "source": [
        "#! ipython id=e8829e7ccec642d7980149682a573d36\n",
        "arr\n",
        "np.tile(arr, 2)"
      ]
    },
    {
      "cell_type": "code",
      "execution_count": null,
      "metadata": {
        "id": "LM845wD62JrH"
      },
      "outputs": [],
      "source": [
        "#! ipython id=7edcdb77a9834138a2e1b2f21ec85248\n",
        "arr\n",
        "np.tile(arr, (2, 1))\n",
        "np.tile(arr, (3, 2))"
      ]
    },
    {
      "cell_type": "code",
      "execution_count": null,
      "metadata": {
        "id": "Mzbp4AnM2JrI"
      },
      "outputs": [],
      "source": [
        "#! ipython id=b69d0b1b35f94e5f93d50b9e91a51d82\n",
        "arr = np.arange(10) * 100\n",
        "inds = [7, 1, 2, 6]\n",
        "arr[inds]"
      ]
    },
    {
      "cell_type": "code",
      "execution_count": null,
      "metadata": {
        "id": "AwFHY7W72JrI"
      },
      "outputs": [],
      "source": [
        "#! ipython id=3078f81f1f1245438754131cfda83a71\n",
        "arr.take(inds)\n",
        "arr.put(inds, 42)\n",
        "arr\n",
        "arr.put(inds, [40, 41, 42, 43])\n",
        "arr"
      ]
    },
    {
      "cell_type": "code",
      "execution_count": null,
      "metadata": {
        "id": "XWCkEtpf2JrI"
      },
      "outputs": [],
      "source": [
        "#! ipython id=ec4ebd6e59a842789ade7673186355fa\n",
        "inds = [2, 0, 2, 1]\n",
        "arr = rng.standard_normal((2, 4))\n",
        "arr\n",
        "arr.take(inds, axis=1)"
      ]
    },
    {
      "cell_type": "code",
      "execution_count": null,
      "metadata": {
        "id": "s98gSejt2JrI"
      },
      "outputs": [],
      "source": [
        "#! ipython id=c490df60ace6471fa7a275199f6648f4\n",
        "arr = np.arange(5)\n",
        "arr\n",
        "arr * 4"
      ]
    },
    {
      "cell_type": "code",
      "execution_count": null,
      "metadata": {
        "id": "rdRoAGb22JrI"
      },
      "outputs": [],
      "source": [
        "#! ipython id=b415c720eee543a183697f250dfc43eb\n",
        "arr = rng.standard_normal((4, 3))\n",
        "arr.mean(0)\n",
        "demeaned = arr - arr.mean(0)\n",
        "demeaned\n",
        "demeaned.mean(0)"
      ]
    },
    {
      "cell_type": "code",
      "execution_count": null,
      "metadata": {
        "id": "XDTKLoLu2JrJ"
      },
      "outputs": [],
      "source": [
        "#! ipython id=24389415f5f24b43ab770324a9c9ff5f\n",
        "arr\n",
        "row_means = arr.mean(1)\n",
        "row_means.shape\n",
        "row_means.reshape((4, 1))\n",
        "demeaned = arr - row_means.reshape((4, 1))\n",
        "demeaned.mean(1)"
      ]
    },
    {
      "cell_type": "code",
      "execution_count": null,
      "metadata": {
        "id": "Y04U3tFC2JrJ"
      },
      "outputs": [],
      "source": [
        "#! ipython allow_exceptions id=2b090f7325404c93acd6bf0357012ef2\n",
        "arr - arr.mean(1)"
      ]
    },
    {
      "cell_type": "code",
      "execution_count": null,
      "metadata": {
        "id": "bYF1tMS72JrJ"
      },
      "outputs": [],
      "source": [
        "#! ipython id=3274f631f8944b27849e55022d15e856\n",
        "arr - arr.mean(1).reshape((4, 1))"
      ]
    },
    {
      "cell_type": "code",
      "execution_count": null,
      "metadata": {
        "id": "X3kPmpOR2JrJ"
      },
      "outputs": [],
      "source": [
        "#! ipython id=22c9e0de0f1a42d1acbfcc8a63d6a4d6\n",
        "arr = np.zeros((4, 4))\n",
        "arr_3d = arr[:, np.newaxis, :]\n",
        "arr_3d.shape\n",
        "arr_1d = rng.standard_normal(3)\n",
        "arr_1d[:, np.newaxis]\n",
        "arr_1d[np.newaxis, :]"
      ]
    },
    {
      "cell_type": "code",
      "execution_count": null,
      "metadata": {
        "id": "u__uc5_n2JrJ"
      },
      "outputs": [],
      "source": [
        "#! ipython id=bc26b50944e54b2cba705986b6a9079f\n",
        "arr = rng.standard_normal((3, 4, 5))\n",
        "depth_means = arr.mean(2)\n",
        "depth_means\n",
        "depth_means.shape\n",
        "demeaned = arr - depth_means[:, :, np.newaxis]\n",
        "demeaned.mean(2)"
      ]
    },
    {
      "cell_type": "code",
      "execution_count": null,
      "metadata": {
        "id": "-fTn_7Zj2JrJ"
      },
      "outputs": [],
      "source": [
        "#! ipython id=29bae95d1b0842c0b457dda156c6bfc0\n",
        "arr = np.zeros((4, 3))\n",
        "arr[:] = 5\n",
        "arr"
      ]
    },
    {
      "cell_type": "code",
      "execution_count": null,
      "metadata": {
        "id": "wrCUezap2JrJ"
      },
      "outputs": [],
      "source": [
        "#! ipython id=ac69aca59c94463d9b6df157d9b521ac\n",
        "col = np.array([1.28, -0.42, 0.44, 1.6])\n",
        "arr[:] = col[:, np.newaxis]\n",
        "arr\n",
        "arr[:2] = [[-1.37], [0.509]]\n",
        "arr"
      ]
    },
    {
      "cell_type": "code",
      "execution_count": null,
      "metadata": {
        "id": "_oAwTwqD2JrK"
      },
      "outputs": [],
      "source": [
        "#! ipython id=14ab862de0b54de6a88bcee07cc87d2b\n",
        "arr = np.arange(10)\n",
        "np.add.reduce(arr)\n",
        "arr.sum()"
      ]
    },
    {
      "cell_type": "code",
      "execution_count": null,
      "metadata": {
        "id": "J3OAh5AG2JrK"
      },
      "outputs": [],
      "source": [
        "#! ipython id=6a6774bb315f4e68920057ba3e4313b5\n",
        "my_rng = np.random.default_rng(12346)  # for reproducibility\n",
        "arr = my_rng.standard_normal((5, 5))\n",
        "arr\n",
        "arr[::2].sort(1) # sort a few rows\n",
        "arr[:, :-1] < arr[:, 1:]\n",
        "np.logical_and.reduce(arr[:, :-1] < arr[:, 1:], axis=1)"
      ]
    },
    {
      "cell_type": "code",
      "execution_count": null,
      "metadata": {
        "id": "gsGypOFz2JrK"
      },
      "outputs": [],
      "source": [
        "#! ipython id=492174bca93b477b813a9387627386bf\n",
        "arr = np.arange(15).reshape((3, 5))\n",
        "np.add.accumulate(arr, axis=1)"
      ]
    },
    {
      "cell_type": "code",
      "execution_count": null,
      "metadata": {
        "id": "MfgQqjED2JrK"
      },
      "outputs": [],
      "source": [
        "#! ipython id=a611264ed18b446aa35e1f93fd9c3852\n",
        "arr = np.arange(3).repeat([1, 2, 2])\n",
        "arr\n",
        "np.multiply.outer(arr, np.arange(5))"
      ]
    },
    {
      "cell_type": "code",
      "execution_count": null,
      "metadata": {
        "id": "191EnBKH2JrK"
      },
      "outputs": [],
      "source": [
        "#! ipython id=83b253bbc5b8420b9caadd08be216a15\n",
        "x, y = rng.standard_normal((3, 4)), rng.standard_normal(5)\n",
        "result = np.subtract.outer(x, y)\n",
        "result.shape"
      ]
    },
    {
      "cell_type": "code",
      "execution_count": null,
      "metadata": {
        "id": "xeZ-UWSv2JrK"
      },
      "outputs": [],
      "source": [
        "#! ipython id=9d967075734a4f12a98072f21ccc2f50\n",
        "arr = np.arange(10)\n",
        "np.add.reduceat(arr, [0, 5, 8])"
      ]
    },
    {
      "cell_type": "code",
      "execution_count": null,
      "metadata": {
        "id": "2K_3GbJ-2JrK"
      },
      "outputs": [],
      "source": [
        "#! ipython id=2f1bc012f36d4b79b680ae14feb2f5f6\n",
        "arr = np.multiply.outer(np.arange(4), np.arange(5))\n",
        "arr\n",
        "np.add.reduceat(arr, [0, 2, 4], axis=1)"
      ]
    },
    {
      "cell_type": "code",
      "execution_count": null,
      "metadata": {
        "id": "BNvlfWqs2JrK"
      },
      "outputs": [],
      "source": [
        "#! ipython id=4be00eeb2796461996ebf7fb17d7d9ef\n",
        "def add_elements(x, y):\n",
        "    return x + y\n",
        "add_them = np.frompyfunc(add_elements, 2, 1)\n",
        "add_them(np.arange(8), np.arange(8))"
      ]
    },
    {
      "cell_type": "code",
      "execution_count": null,
      "metadata": {
        "id": "TQCySqly2JrL"
      },
      "outputs": [],
      "source": [
        "#! ipython id=1141b1d6ac6c46509bb1ae3ced6bab2d\n",
        "add_them = np.vectorize(add_elements, otypes=[np.float64])\n",
        "add_them(np.arange(8), np.arange(8))"
      ]
    },
    {
      "cell_type": "code",
      "execution_count": null,
      "metadata": {
        "id": "4BbkpQtf2JrL"
      },
      "outputs": [],
      "source": [
        "#! ipython id=837c3af6451b473db934f3feda79f443\n",
        "arr = rng.standard_normal(10000)\n",
        "%timeit add_them(arr, arr)\n",
        "%timeit np.add(arr, arr)"
      ]
    },
    {
      "cell_type": "code",
      "execution_count": null,
      "metadata": {
        "id": "xKNYPr7a2JrL"
      },
      "outputs": [],
      "source": [
        "#! ipython id=c0a9418af68f422db17fc103bba4be52\n",
        "dtype = [('x', np.float64), ('y', np.int32)]\n",
        "sarr = np.array([(1.5, 6), (np.pi, -2)], dtype=dtype)\n",
        "sarr"
      ]
    },
    {
      "cell_type": "code",
      "execution_count": null,
      "metadata": {
        "id": "qHmhhbTX2JrL"
      },
      "outputs": [],
      "source": [
        "#! ipython id=38a27fd8a31f42eb81fd1f2f7c75690c\n",
        "sarr[0]\n",
        "sarr[0]['y']"
      ]
    },
    {
      "cell_type": "code",
      "execution_count": null,
      "metadata": {
        "id": "FL70Ut4l2JrL"
      },
      "outputs": [],
      "source": [
        "#! ipython id=4cca2ce62d114eb68b1b45f7f254c533\n",
        "sarr['x']"
      ]
    },
    {
      "cell_type": "code",
      "execution_count": null,
      "metadata": {
        "id": "-h_whGe12JrL"
      },
      "outputs": [],
      "source": [
        "#! ipython id=e9302f10530049b6a23c7af55f170a39\n",
        "dtype = [('x', np.int64, 3), ('y', np.int32)]\n",
        "arr = np.zeros(4, dtype=dtype)\n",
        "arr"
      ]
    },
    {
      "cell_type": "code",
      "execution_count": null,
      "metadata": {
        "id": "yi6vhpsD2JrL"
      },
      "outputs": [],
      "source": [
        "#! ipython id=514ec71c8e9349dead3b18e382625f21\n",
        "arr[0]['x']"
      ]
    },
    {
      "cell_type": "code",
      "execution_count": null,
      "metadata": {
        "id": "C8-74ACw2JrL"
      },
      "outputs": [],
      "source": [
        "#! ipython id=4daaa32c58614b8d98c4c8cedba3cea5\n",
        "arr['x']"
      ]
    },
    {
      "cell_type": "code",
      "execution_count": null,
      "metadata": {
        "id": "RIKUsr_k2JrL"
      },
      "outputs": [],
      "source": [
        "#! ipython id=7bd40164ecdd459c8adc144cb17b9467\n",
        "dtype = [('x', [('a', 'f8'), ('b', 'f4')]), ('y', np.int32)]\n",
        "data = np.array([((1, 2), 5), ((3, 4), 6)], dtype=dtype)\n",
        "data['x']\n",
        "data['y']\n",
        "data['x']['a']"
      ]
    },
    {
      "cell_type": "code",
      "execution_count": null,
      "metadata": {
        "id": "yg3f71SY2JrM"
      },
      "outputs": [],
      "source": [
        "#! ipython id=73efe3c6188e410da27ab48c9a7f53c3\n",
        "arr = rng.standard_normal(6)\n",
        "arr.sort()\n",
        "arr"
      ]
    },
    {
      "cell_type": "code",
      "execution_count": null,
      "metadata": {
        "id": "jAPb8O-m2JrM"
      },
      "outputs": [],
      "source": [
        "#! ipython id=69b9121e120542c980b2881fd318539a\n",
        "arr = rng.standard_normal((3, 5))\n",
        "arr\n",
        "arr[:, 0].sort()  # Sort first column values in place\n",
        "arr"
      ]
    },
    {
      "cell_type": "code",
      "execution_count": null,
      "metadata": {
        "id": "EUB-nkGz2JrM"
      },
      "outputs": [],
      "source": [
        "#! ipython id=bbf95e7e69c84b5d9217178b033279ff\n",
        "arr = rng.standard_normal(5)\n",
        "arr\n",
        "np.sort(arr)\n",
        "arr"
      ]
    },
    {
      "cell_type": "code",
      "execution_count": null,
      "metadata": {
        "id": "-ODRFpoT2JrM"
      },
      "outputs": [],
      "source": [
        "#! ipython id=60280db86cd24fdeb3b58b93d5382366\n",
        "arr = rng.standard_normal((3, 5))\n",
        "arr\n",
        "arr.sort(axis=1)\n",
        "arr"
      ]
    },
    {
      "cell_type": "code",
      "execution_count": null,
      "metadata": {
        "id": "8kp9N6HU2JrM"
      },
      "outputs": [],
      "source": [
        "#! ipython id=4b269d24749c43d09afe58fad81e2242\n",
        "arr[:, ::-1]"
      ]
    },
    {
      "cell_type": "code",
      "execution_count": null,
      "metadata": {
        "id": "KI7wSPY92JrM"
      },
      "outputs": [],
      "source": [
        "#! ipython id=06130b05850e48d68bc1ede1f371fea1\n",
        "values = np.array([5, 0, 1, 3, 2])\n",
        "indexer = values.argsort()\n",
        "indexer\n",
        "values[indexer]"
      ]
    },
    {
      "cell_type": "code",
      "execution_count": null,
      "metadata": {
        "id": "XaS_N1fA2JrM"
      },
      "outputs": [],
      "source": [
        "#! ipython id=e12e6b522b5b4519ad20abcdd428099d\n",
        "arr = rng.standard_normal((3, 5))\n",
        "arr[0] = values\n",
        "arr\n",
        "arr[:, arr[0].argsort()]"
      ]
    },
    {
      "cell_type": "code",
      "execution_count": null,
      "metadata": {
        "id": "TLWH3zmm2JrM"
      },
      "outputs": [],
      "source": [
        "#! ipython id=74b0473e78574cd39056cd680c9dd72d\n",
        "first_name = np.array(['Bob', 'Jane', 'Steve', 'Bill', 'Barbara'])\n",
        "last_name = np.array(['Jones', 'Arnold', 'Arnold', 'Jones', 'Walters'])\n",
        "sorter = np.lexsort((first_name, last_name))\n",
        "sorter\n",
        "list(zip(last_name[sorter], first_name[sorter]))"
      ]
    },
    {
      "cell_type": "code",
      "execution_count": null,
      "metadata": {
        "id": "OpllGdeN2JrN"
      },
      "outputs": [],
      "source": [
        "#! ipython id=d84e962e207145bba4e631af61a21c58\n",
        "values = np.array(['2:first', '2:second', '1:first', '1:second',\n",
        "                   '1:third'])\n",
        "key = np.array([2, 2, 1, 1, 1])\n",
        "indexer = key.argsort(kind='mergesort')\n",
        "indexer\n",
        "values.take(indexer)"
      ]
    },
    {
      "cell_type": "code",
      "execution_count": null,
      "metadata": {
        "id": "1Q_uOiRt2JrN"
      },
      "outputs": [],
      "source": [
        "#! ipython id=2bedabe6402f4a6fbb99a44b2814267c\n",
        "rng = np.random.default_rng(12345)\n",
        "arr = rng.standard_normal(20)\n",
        "arr\n",
        "np.partition(arr, 3)"
      ]
    },
    {
      "cell_type": "code",
      "execution_count": null,
      "metadata": {
        "id": "37Wshwsj2JrN"
      },
      "outputs": [],
      "source": [
        "#! ipython id=c5cc9ec52b18419d910da3cbb6a65e37\n",
        "indices = np.argpartition(arr, 3)\n",
        "indices\n",
        "arr.take(indices)"
      ]
    },
    {
      "cell_type": "code",
      "execution_count": null,
      "metadata": {
        "id": "P8hpgy362JrN"
      },
      "outputs": [],
      "source": [
        "#! ipython id=6792cdc9a8b941598bfeae97a3c8fe53\n",
        "arr = np.array([0, 1, 7, 12, 15])\n",
        "arr.searchsorted(9)"
      ]
    },
    {
      "cell_type": "code",
      "execution_count": null,
      "metadata": {
        "id": "9MYP3E3s2JrN"
      },
      "outputs": [],
      "source": [
        "#! ipython id=0c0cc89abad747b38fd20a51eb8ecbc9\n",
        "arr.searchsorted([0, 8, 11, 16])"
      ]
    },
    {
      "cell_type": "code",
      "execution_count": null,
      "metadata": {
        "id": "vdEersNF2JrN"
      },
      "outputs": [],
      "source": [
        "#! ipython id=1d38f21b28f84a539dab05393eef74d6\n",
        "arr = np.array([0, 0, 0, 1, 1, 1, 1])\n",
        "arr.searchsorted([0, 1])\n",
        "arr.searchsorted([0, 1], side='right')"
      ]
    },
    {
      "cell_type": "code",
      "execution_count": null,
      "metadata": {
        "id": "FvwzUdro2JrN"
      },
      "outputs": [],
      "source": [
        "#! ipython id=0916802173d441698ea70fa6267d1679\n",
        "data = np.floor(rng.uniform(0, 10000, size=50))\n",
        "bins = np.array([0, 100, 1000, 5000, 10000])\n",
        "data"
      ]
    },
    {
      "cell_type": "code",
      "execution_count": null,
      "metadata": {
        "id": "yoxuHwYW2JrN"
      },
      "outputs": [],
      "source": [
        "#! ipython id=eff843c29e2b4f25bc876cde836ea118\n",
        "labels = bins.searchsorted(data)\n",
        "labels"
      ]
    },
    {
      "cell_type": "code",
      "execution_count": null,
      "metadata": {
        "id": "DCqPyst22JrO"
      },
      "outputs": [],
      "source": [
        "#! ipython id=fce3b76453ea4db391c4cd582a341b05\n",
        "pd.Series(data).groupby(labels).mean()"
      ]
    },
    {
      "cell_type": "code",
      "execution_count": null,
      "metadata": {
        "id": "Lnpbh_ZI2JrO"
      },
      "outputs": [],
      "source": [
        "#! ipython verbatim id=103dc5eb76d24212aa0b6132d0340ab3\n",
        "import numpy as np\n",
        "\n",
        "def mean_distance(x, y):\n",
        "    nx = len(x)\n",
        "    result = 0.0\n",
        "    count = 0\n",
        "    for i in range(nx):\n",
        "        result += x[i] - y[i]\n",
        "        count += 1\n",
        "    return result / count"
      ]
    },
    {
      "cell_type": "code",
      "execution_count": null,
      "metadata": {
        "id": "PbOlG4_h2JrO"
      },
      "outputs": [],
      "source": [
        "#! ipython id=93268b6cec1a4b6683f36f96b26794cc\n",
        "mmap = np.memmap('mymmap', dtype='float64', mode='w+',\n",
        "                 shape=(10000, 10000))\n",
        "mmap"
      ]
    },
    {
      "cell_type": "code",
      "execution_count": null,
      "metadata": {
        "id": "Vm9W_zSo2JrO"
      },
      "outputs": [],
      "source": [
        "#! ipython id=c5a4b74fb3fd4d0d8171d9fbeb646e8f\n",
        "section = mmap[:5]"
      ]
    },
    {
      "cell_type": "code",
      "execution_count": null,
      "metadata": {
        "id": "Ds-rDxRO2JrO"
      },
      "outputs": [],
      "source": [
        "#! ipython id=9cdaeb21f7e2482e85247400525f7530\n",
        "section[:] = rng.standard_normal((5, 10000))\n",
        "mmap.flush()\n",
        "mmap\n",
        "del mmap"
      ]
    },
    {
      "cell_type": "code",
      "execution_count": null,
      "metadata": {
        "id": "wy7-tulJ2JrO"
      },
      "outputs": [],
      "source": [
        "#! ipython id=004c3e0df5d54c7eb5e9666df4735017\n",
        "mmap = np.memmap('mymmap', dtype='float64', shape=(10000, 10000))\n",
        "mmap"
      ]
    },
    {
      "cell_type": "code",
      "execution_count": null,
      "metadata": {
        "id": "K-88fXp_2JrO"
      },
      "outputs": [],
      "source": [
        "#! ipython id=031548779f4a45b8b9ab9b0d7f47485d\n",
        "%xdel mmap\n",
        "!rm mymmap"
      ]
    },
    {
      "cell_type": "code",
      "execution_count": null,
      "metadata": {
        "id": "QiWKWK3-2JrO"
      },
      "outputs": [],
      "source": [
        "#! ipython id=05f2436e37a144048f7a6b2f923e712e\n",
        "arr_c = np.ones((100, 10000), order='C')\n",
        "arr_f = np.ones((100, 10000), order='F')\n",
        "arr_c.flags\n",
        "arr_f.flags\n",
        "arr_f.flags.f_contiguous"
      ]
    },
    {
      "cell_type": "code",
      "execution_count": null,
      "metadata": {
        "id": "l6r_z6r62JrO"
      },
      "outputs": [],
      "source": [
        "#! ipython id=b886f529c4c74829ad119f83e5ccdeb9\n",
        "%timeit arr_c.sum(1)\n",
        "%timeit arr_f.sum(1)"
      ]
    },
    {
      "cell_type": "code",
      "execution_count": null,
      "metadata": {
        "id": "iaL-ZeMD2JrP"
      },
      "outputs": [],
      "source": [
        "#! ipython id=6712242905fd4c97938998ffa4cc7b9b\n",
        "arr_f.copy('C').flags"
      ]
    },
    {
      "cell_type": "code",
      "execution_count": null,
      "metadata": {
        "id": "k4HsLT5z2JrP"
      },
      "outputs": [],
      "source": [
        "#! ipython id=06dd1d79515047beb5a8a4895ce17aed\n",
        "arr_c[:50].flags.contiguous\n",
        "arr_c[:, :50].flags"
      ]
    },
    {
      "cell_type": "code",
      "execution_count": null,
      "metadata": {
        "id": "PzGtpbEE2JrP"
      },
      "outputs": [],
      "source": [
        "#! ipython suppress id=2ccd538ad8c64c5198411a19b44fabf4\n",
        "%xdel arr_c\n",
        "%xdel arr_f"
      ]
    },
    {
      "cell_type": "code",
      "execution_count": null,
      "metadata": {
        "id": "iRCQSjil2JrP"
      },
      "outputs": [],
      "source": [
        "#! ipython suppress id=0affe014fbd34cde9a3769dd8c94fdc6\n",
        "%popd"
      ]
    },
    {
      "cell_type": "code",
      "execution_count": null,
      "metadata": {
        "id": "TfrMJScL2JrP"
      },
      "outputs": [],
      "source": [
        "#! ipython suppress id=eb88d21e8e59441e884dda4884f3d0f8\n",
        "pd.options.display.max_rows = PREVIOUS_MAX_ROWS"
      ]
    }
  ],
  "metadata": {
    "kernelspec": {
      "display_name": "Python 3",
      "language": "python",
      "name": "python3"
    },
    "language_info": {
      "codemirror_mode": {
        "name": "ipython",
        "version": 3
      },
      "file_extension": ".py",
      "mimetype": "text/x-python",
      "name": "python",
      "nbconvert_exporter": "python",
      "pygments_lexer": "ipython3",
      "version": "3.7.6"
    },
    "colab": {
      "provenance": []
    }
  },
  "nbformat": 4,
  "nbformat_minor": 0
}